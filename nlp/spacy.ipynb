{
 "cells": [
  {
   "cell_type": "code",
   "execution_count": 1,
   "metadata": {},
   "outputs": [
    {
     "name": "stderr",
     "output_type": "stream",
     "text": [
      "c:\\Users\\Guillaume\\AppData\\Local\\Programs\\Python\\Python310\\lib\\site-packages\\tqdm\\auto.py:22: TqdmWarning: IProgress not found. Please update jupyter and ipywidgets. See https://ipywidgets.readthedocs.io/en/stable/user_install.html\n",
      "  from .autonotebook import tqdm as notebook_tqdm\n"
     ]
    },
    {
     "ename": "AttributeError",
     "evalue": "type object 'spacy.pipeline.ner.EntityRecognizer' has no attribute 'load'",
     "output_type": "error",
     "traceback": [
      "\u001b[1;31m---------------------------------------------------------------------------\u001b[0m",
      "\u001b[1;31mAttributeError\u001b[0m                            Traceback (most recent call last)",
      "\u001b[1;32mc:\\Users\\Guillaume\\Documents\\Epitoc\\MSC3\\T-AIA-901-NCY_1\\Project\\nlp\\spacy.ipynb Cellule 1\u001b[0m in \u001b[0;36m<cell line: 7>\u001b[1;34m()\u001b[0m\n\u001b[0;32m      <a href='vscode-notebook-cell:/c%3A/Users/Guillaume/Documents/Epitoc/MSC3/T-AIA-901-NCY_1/Project/nlp/spacy.ipynb#W0sZmlsZQ%3D%3D?line=4'>5</a>\u001b[0m \u001b[39m# Charger le modèle de NER pré-entraîné\u001b[39;00m\n\u001b[0;32m      <a href='vscode-notebook-cell:/c%3A/Users/Guillaume/Documents/Epitoc/MSC3/T-AIA-901-NCY_1/Project/nlp/spacy.ipynb#W0sZmlsZQ%3D%3D?line=5'>6</a>\u001b[0m nlp \u001b[39m=\u001b[39m French()\n\u001b[1;32m----> <a href='vscode-notebook-cell:/c%3A/Users/Guillaume/Documents/Epitoc/MSC3/T-AIA-901-NCY_1/Project/nlp/spacy.ipynb#W0sZmlsZQ%3D%3D?line=6'>7</a>\u001b[0m ner \u001b[39m=\u001b[39m EntityRecognizer\u001b[39m.\u001b[39;49mload(\u001b[39m'\u001b[39m\u001b[39mfr_ner_model\u001b[39m\u001b[39m'\u001b[39m)\n\u001b[0;32m      <a href='vscode-notebook-cell:/c%3A/Users/Guillaume/Documents/Epitoc/MSC3/T-AIA-901-NCY_1/Project/nlp/spacy.ipynb#W0sZmlsZQ%3D%3D?line=7'>8</a>\u001b[0m nlp\u001b[39m.\u001b[39madd_pipe(ner)\n\u001b[0;32m     <a href='vscode-notebook-cell:/c%3A/Users/Guillaume/Documents/Epitoc/MSC3/T-AIA-901-NCY_1/Project/nlp/spacy.ipynb#W0sZmlsZQ%3D%3D?line=9'>10</a>\u001b[0m \u001b[39m# Définir une fonction pour extraire les villes dans une phrase et les étiqueter comme points de départ ou d'arrivée\u001b[39;00m\n",
      "\u001b[1;31mAttributeError\u001b[0m: type object 'spacy.pipeline.ner.EntityRecognizer' has no attribute 'load'"
     ]
    }
   ],
   "source": [
    "# Importer les modules nécessaires\n",
    "from spacy.lang.fr import French\n",
    "from spacy.pipeline import EntityRecognizer\n",
    "\n",
    "# Charger le modèle de NER pré-entraîné\n",
    "nlp = French()\n",
    "ner = EntityRecognizer.load('fr_ner_model')\n",
    "nlp.add_pipe(ner)\n",
    "\n",
    "# Définir une fonction pour extraire les villes dans une phrase et les étiqueter comme points de départ ou d'arrivée\n",
    "def detect_cities(sentence):\n",
    "  # Traiter la phrase avec le modèle de NER\n",
    "  doc = nlp(sentence)\n",
    "  \n",
    "  # Initialiser les variables pour stocker les villes détectées et leurs étiquettes\n",
    "  start_city = None\n",
    "  end_city = None\n",
    "  \n",
    "  # Parcourir les entités détectées dans la phrase\n",
    "  for ent in doc.ents:\n",
    "    # Si l'entité est une ville et qu'elle est étiquetée comme point de départ, enregistrer la ville comme point de départ\n",
    "    if ent.label_ == 'CITY' and ent.start_char == 0:\n",
    "      start_city = ent.text\n",
    "    # Si l'entité est une ville et qu'elle est étiquetée comme point d'arrivée, enregistrer la ville comme point d'arrivée\n",
    "    elif ent.label_ == 'CITY' and ent.end_char == len(sentence):\n",
    "      end_city = ent.text\n",
    "      \n",
    "  # Renvoyer les villes détectées\n",
    "  return start_city, end_city\n",
    "\n",
    "# Tester la fonction sur quelques phrases\n",
    "sentence1 = \"Je suis à Paris et j'aimerais aller à Nice\"\n",
    "start_city, end_city = detect_cities(sentence1)\n",
    "print(f\"Start city: {start_city}, End city: {end_city}\")\n",
    "\n",
    "sentence2 = \"De Paris, je vais à Lyon\"\n",
    "start_city, end_city = detect_cities(sentence2)\n",
    "print(f\"Start city: {start_city}, End city: {end_city}\")\n",
    "\n",
    "sentence3 = \"Je pars de Marseille pour aller à Toulouse\"\n",
    "start_city, end_city = detect_cities(sentence3)\n",
    "print(f\"Start city: {start_city}, End city: {end_city}\")"
   ]
  }
 ],
 "metadata": {
  "kernelspec": {
   "display_name": "Python 3.10.5 64-bit",
   "language": "python",
   "name": "python3"
  },
  "language_info": {
   "codemirror_mode": {
    "name": "ipython",
    "version": 3
   },
   "file_extension": ".py",
   "mimetype": "text/x-python",
   "name": "python",
   "nbconvert_exporter": "python",
   "pygments_lexer": "ipython3",
   "version": "3.10.5"
  },
  "orig_nbformat": 4,
  "vscode": {
   "interpreter": {
    "hash": "eae5f59d8fba25bcfef2dd471563a815bcd0a3a96804762ddf906651e24b5951"
   }
  }
 },
 "nbformat": 4,
 "nbformat_minor": 2
}

{
 "cells": [
  {
   "cell_type": "code",
   "execution_count": 1,
   "metadata": {},
   "outputs": [
    {
     "name": "stderr",
     "output_type": "stream",
     "text": [
      "c:\\Users\\Guillaume\\AppData\\Local\\Programs\\Python\\Python310\\lib\\site-packages\\tqdm\\auto.py:22: TqdmWarning: IProgress not found. Please update jupyter and ipywidgets. See https://ipywidgets.readthedocs.io/en/stable/user_install.html\n",
      "  from .autonotebook import tqdm as notebook_tqdm\n"
     ]
    }
   ],
   "source": [
    "import spacy\n",
    "import random"
   ]
  },
  {
   "cell_type": "markdown",
   "metadata": {},
   "source": []
  },
  {
   "cell_type": "code",
   "execution_count": 2,
   "metadata": {},
   "outputs": [],
   "source": [
    "# Chargez le modèle français de Spacy\n",
    "nlp = spacy.load(\"fr_core_news_md\")"
   ]
  },
  {
   "cell_type": "code",
   "execution_count": 3,
   "metadata": {},
   "outputs": [],
   "source": [
    "# Réunissez un jeu de données d'entraînement avec des phrases et les labels de lieux de DEP et d'ARR correspondants\n",
    "TRAIN_DATA = [\n",
    "    (\"Je voudrais aller à Metz en partant de Nancy\", {\"entities\": [(20, 24, \"ARR\"), (39, 44, \"DEP\")]}),\n",
    "    (\"Je pars de Metz pour aller à Lyon\", {\"entities\": [(11, 15, \"DEP\"), (29, 32, \"ARR\")]}),\n",
    "    (\"Je vais de Paris à Bordeaux en train\", {\"entities\": [(11, 16, \"DEP\"), (19, 28, \"ARR\")]}),\n",
    "    (\"Je pars de Nice pour aller à Marseille\", {\"entities\": [(11, 15, \"DEP\"), (29, 38, \"ARR\")]}),\n",
    "    (\"Je trouve qu'il fait beau.\" , {\"entities\": []}),\n",
    "    (\"Je veux aller de Nancy à Metz en train\", {\"entities\": [(20, 24, \"DEP\"), (27, 31, \"ARR\")]}),\n",
    "    ('Je pars de Bordeaux pour aller à Lille', {'entities': [(11, 19, 'DEP'), (33, 38, 'ARR')]}),\n",
    "    ('Je vais à Bordeaux depuis Lille', {'entities': [(10, 18, 'ARR'), (26, 31, 'DEP')]}),\n",
    "    ('On voudrait aller à Bordeaux en partant de Lille', {'entities': [(20, 28, 'ARR'), (43, 48, 'DEP')]}),\n",
    "    ('Je pars de Nancy pour aller à Lille', {'entities': [(11, 16, 'DEP'), (30, 35, 'ARR')]}),\n",
    "    ('Je vais à Nancy depuis Lille', {'entities': [(10, 15, 'ARR'), (23, 28, 'DEP')]}),\n",
    "    ('On voudrait aller à Nancy en partant de Lille', {'entities': [(20, 25, 'ARR'), (40, 45, 'DEP')]}),\n",
    "    ('Je pars de Marseille pour aller à Lille', {'entities': [(11, 20, 'DEP'), (34, 39, 'ARR')]}),\n",
    "    ('Je vais à Marseille depuis Lille', {'entities': [(10, 19, 'ARR'), (27, 32, 'DEP')]}),\n",
    "    ('On voudrait aller à Marseille en partant de Lille', {'entities': [(20, 29, 'ARR'), (44, 49, 'DEP')]}),\n",
    "    ('Je pars de Paris pour aller à Lille', {'entities': [(11, 16, 'DEP'), (30, 35, 'ARR')]}),\n",
    "    ('Je vais à Paris depuis Lille', {'entities': [(10, 15, 'ARR'), (23, 28, 'DEP')]}),\n",
    "    ('On voudrait aller à Paris en partant de Lille', {'entities': [(20, 25, 'ARR'), (40, 45, 'DEP')]}),\n",
    "    ('Je pars de Nancy pour aller à Metz', {'entities': [(11, 16, 'DEP'), (30, 34, 'ARR')]}),\n",
    "    ('Je vais à Nancy depuis Metz', {'entities': [(10, 15, 'ARR'), (23, 27, 'DEP')]}),\n",
    "    ('On voudrait aller à Nancy en partant de Metz', {'entities': [(20, 25, 'ARR'), (40, 44, 'DEP')]}),\n",
    "    ('Je pars de Bordeaux pour aller à Paris', {'entities': [(11, 19, 'DEP'), (33, 38, 'ARR')]}),\n",
    "    ('Je vais à Bordeaux depuis Paris', {'entities': [(10, 18, 'ARR'), (26, 31, 'DEP')]}),\n",
    "    ('On voudrait aller à Bordeaux en partant de Paris', {'entities': [(20, 28, 'ARR'), (43, 48, 'DEP')]}),\n",
    "    ('Je pars de Paris pour aller à Lille', {'entities': [(11, 16, 'DEP'), (30, 35, 'ARR')]}),\n",
    "    ('Je vais à Paris depuis Lille', {'entities': [(10, 15, 'ARR'), (23, 28, 'DEP')]}),\n",
    "    ('On voudrait aller à Paris en partant de Lille', {'entities': [(20, 25, 'ARR'), (40, 45, 'DEP')]}),\n",
    "    ('Je pars de Lille pour aller à Strasbourg', {'entities': [(11, 16, 'DEP'), (30, 40, 'ARR')]}),\n",
    "    ('Je vais à Lille depuis Strasbourg', {'entities': [(10, 15, 'ARR'), (23, 33, 'DEP')]}),\n",
    "    ('On voudrait aller à Lille en partant de Strasbourg', {'entities': [(20, 25, 'ARR'), (40, 50, 'DEP')]}),\n",
    "    ('Je pars de Lille pour aller à Marseille', {'entities': [(11, 16, 'DEP'), (30, 39, 'ARR')]}),\n",
    "    ('Je vais à Lille depuis Marseille', {'entities': [(10, 15, 'ARR'), (23, 32, 'DEP')]}),\n",
    "    ('On voudrait aller à Lille en partant de Marseille', {'entities': [(20, 25, 'ARR'), (40, 49, 'DEP')]}),\n",
    "    ('Je pars de Strasbourg pour aller à Nice', {'entities': [(11, 21, 'DEP'), (35, 39, 'ARR')]}),\n",
    "    ('Je vais à Strasbourg depuis Nice', {'entities': [(10, 20, 'ARR'), (28, 32, 'DEP')]}),\n",
    "    ('On voudrait aller à Strasbourg en partant de Nice', {'entities': [(20, 30, 'ARR'), (45, 49, 'DEP')]}),\n",
    "    ('Je pars de Metz pour aller à Paris', {'entities': [(11, 15, 'DEP'), (29, 34, 'ARR')]}),\n",
    "    ('Je vais à Metz depuis Paris', {'entities': [(10, 14, 'ARR'), (22, 27, 'DEP')]}),\n",
    "    ('On voudrait aller à Metz en partant de Paris', {'entities': [(20, 24, 'ARR'), (39, 44, 'DEP')]}),\n",
    "    ('Je pars de Marseille pour aller à Nancy', {'entities': [(11, 20, 'DEP'), (34, 39, 'ARR')]}),\n",
    "    ('Je vais à Marseille depuis Nancy', {'entities': [(10, 19, 'ARR'), (27, 32, 'DEP')]}),\n",
    "    ('On voudrait aller à Marseille en partant de Nancy', {'entities': [(20, 29, 'ARR'), (44, 49, 'DEP')]}),\n",
    "    ('Je pars de Toulouse pour aller à Bordeaux', {'entities': [(11, 19, 'DEP'), (33, 41, 'ARR')]}),\n",
    "    ('Je vais à Toulouse depuis Bordeaux', {'entities': [(10, 18, 'ARR'), (26, 34, 'DEP')]}),\n",
    "    ('On voudrait aller à Toulouse en partant de Bordeaux', {'entities': [(20, 28, 'ARR'), (43, 51, 'DEP')]}),\n",
    "    ('Je pars de Nice pour aller à Metz', {'entities': [(11, 15, 'DEP'), (29, 33, 'ARR')]}),\n",
    "    ('Je vais à Nice depuis Metz', {'entities': [(10, 14, 'ARR'), (22, 26, 'DEP')]}),\n",
    "    ('On voudrait aller à Nice en partant de Metz', {'entities': [(20, 24, 'ARR'), (39, 43, 'DEP')]}),\n",
    "    ('Je pars de Lille pour aller à Nancy', {'entities': [(11, 16, 'DEP'), (30, 35, 'ARR')]}),\n",
    "    ('Je vais à Lille depuis Nancy', {'entities': [(10, 15, 'ARR'), (23, 28, 'DEP')]}),\n",
    "    ('On voudrait aller à Lille en partant de Nancy', {'entities': [(20, 25, 'ARR'), (40, 45, 'DEP')]}),\n",
    "    ('Je pars de Nice pour aller à Paris', {'entities': [(11, 15, 'DEP'), (29, 34, 'ARR')]}),\n",
    "    ('Je vais à Nice depuis Paris', {'entities': [(10, 14, 'ARR'), (22, 27, 'DEP')]}),\n",
    "    ('On voudrait aller à Nice en partant de Paris', {'entities': [(20, 24, 'ARR'), (39, 44, 'DEP')]}),\n",
    "    ('Je pars de Nice pour aller à Marseille', {'entities': [(11, 15, 'DEP'), (29, 38, 'ARR')]}),\n",
    "    ('Je vais à Nice depuis Marseille', {'entities': [(10, 14, 'ARR'), (22, 31, 'DEP')]}),\n",
    "    ('On voudrait aller à Nice en partant de Marseille', {'entities': [(20, 24, 'ARR'), (39, 48, 'DEP')]}),\n",
    "    ('Je pars de Strasbourg pour aller à Nice', {'entities': [(11, 21, 'DEP'), (35, 39, 'ARR')]}),\n",
    "    ('Je vais à Strasbourg depuis Nice', {'entities': [(10, 20, 'ARR'), (28, 32, 'DEP')]}),\n",
    "    ('On voudrait aller à Strasbourg en partant de Nice', {'entities': [(20, 30, 'ARR'), (45, 49, 'DEP')]}),\n",
    "    ('Je pars de Lyon pour aller à Lille', {'entities': [(11, 15, 'DEP'), (29, 34, 'ARR')]}),\n",
    "    ('Je vais à Lyon depuis Lille', {'entities': [(10, 14, 'ARR'), (22, 27, 'DEP')]}),\n",
    "    ('On voudrait aller à Lyon en partant de Lille', {'entities': [(20, 24, 'ARR'), (39, 44, 'DEP')]}),\n",
    "    ('Je pars de Lille pour aller à Metz', {'entities': [(11, 16, 'DEP'), (30, 34, 'ARR')]}),\n",
    "    ('Je vais à Lille depuis Metz', {'entities': [(10, 15, 'ARR'), (23, 27, 'DEP')]}),\n",
    "    ('On voudrait aller à Lille en partant de Metz', {'entities': [(20, 25, 'ARR'), (40, 44, 'DEP')]}),\n",
    "    ('Je pars de Nancy pour aller à Nice', {'entities': [(11, 16, 'DEP'), (30, 34, 'ARR')]}),\n",
    "    ('Je vais à Nancy depuis Nice', {'entities': [(10, 15, 'ARR'), (23, 27, 'DEP')]}),\n",
    "    ('On voudrait aller à Nancy en partant de Nice', {'entities': [(20, 25, 'ARR'), (40, 44, 'DEP')]}),\n",
    "    ('Je pars de Strasbourg pour aller à Nice', {'entities': [(11, 21, 'DEP'), (35, 39, 'ARR')]}),\n",
    "    ('Je vais à Strasbourg depuis Nice', {'entities': [(10, 20, 'ARR'), (28, 32, 'DEP')]}),\n",
    "    ('On voudrait aller à Strasbourg en partant de Nice', {'entities': [(20, 30, 'ARR'), (45, 49, 'DEP')]}),\n",
    "    ('Je pars de Bordeaux pour aller à Marseille', {'entities': [(11, 19, 'DEP'), (33, 42, 'ARR')]}),\n",
    "    ('Je vais à Bordeaux depuis Marseille', {'entities': [(10, 18, 'ARR'), (26, 35, 'DEP')]}),\n",
    "    ('On voudrait aller à Bordeaux en partant de Marseille', {'entities': [(20, 28, 'ARR'), (43, 52, 'DEP')]}),\n",
    "    ('Je pars de Nice pour aller à Metz', {'entities': [(11, 15, 'DEP'), (29, 33, 'ARR')]}),\n",
    "    ('Je vais à Nice depuis Metz', {'entities': [(10, 14, 'ARR'), (22, 26, 'DEP')]}),\n",
    "    ('On voudrait aller à Nice en partant de Metz', {'entities': [(20, 24, 'ARR'), (39, 43, 'DEP')]}),\n",
    "    ('Je pars de Nancy pour aller à Nice', {'entities': [(11, 16, 'DEP'), (30, 34, 'ARR')]}),\n",
    "    ('Je vais à Nancy depuis Nice', {'entities': [(10, 15, 'ARR'), (23, 27, 'DEP')]}),\n",
    "    ('On voudrait aller à Nancy en partant de Nice', {'entities': [(20, 25, 'ARR'), (40, 44, 'DEP')]}),\n",
    "    ('Je pars de Strasbourg pour aller à Lille', {'entities': [(11, 21, 'DEP'), (35, 40, 'ARR')]}),\n",
    "    ('Je vais à Strasbourg depuis Lille', {'entities': [(10, 20, 'ARR'), (28, 33, 'DEP')]}),\n",
    "    ('On voudrait aller à Strasbourg en partant de Lille', {'entities': [(20, 30, 'ARR'), (45, 50, 'DEP')]}),\n",
    "    ('Je pars de Toulouse pour aller à Lille', {'entities': [(11, 19, 'DEP'), (33, 38, 'ARR')]}),\n",
    "    ('Je vais à Toulouse depuis Lille', {'entities': [(10, 18, 'ARR'), (26, 31, 'DEP')]}),\n",
    "    ('On voudrait aller à Toulouse en partant de Lille', {'entities': [(20, 28, 'ARR'), (43, 48, 'DEP')]}),\n",
    "    ('Je pars de Toulouse pour aller à Lyon', {'entities': [(11, 19, 'DEP'), (33, 37, 'ARR')]}),\n",
    "    ('Je vais à Toulouse depuis Lyon', {'entities': [(10, 18, 'ARR'), (26, 30, 'DEP')]}),\n",
    "    ('On voudrait aller à Toulouse en partant de Lyon', {'entities': [(20, 28, 'ARR'), (43, 47, 'DEP')]}),\n",
    "    ('Je pars de Nice pour aller à Paris', {'entities': [(11, 15, 'DEP'), (29, 34, 'ARR')]}),\n",
    "    ('Je vais à Nice depuis Paris', {'entities': [(10, 14, 'ARR'), (22, 27, 'DEP')]}),\n",
    "    ('On voudrait aller à Nice en partant de Paris', {'entities': [(20, 24, 'ARR'), (39, 44, 'DEP')]}),\n",
    "    ('Je pars de Toulouse pour aller à Bordeaux', {'entities': [(11, 19, 'DEP'), (33, 41, 'ARR')]}),\n",
    "    ('Je vais à Toulouse depuis Bordeaux', {'entities': [(10, 18, 'ARR'), (26, 34, 'DEP')]}),\n",
    "    ('On voudrait aller à Toulouse en partant de Bordeaux', {'entities': [(20, 28, 'ARR'), (43, 51, 'DEP')]}),\n",
    "    ('Je pars de Lyon pour aller à Strasbourg', {'entities': [(11, 15, 'DEP'), (29, 39, 'ARR')]}),\n",
    "    ('Je vais à Lyon depuis Strasbourg', {'entities': [(10, 14, 'ARR'), (22, 32, 'DEP')]}),\n",
    "    ('On voudrait aller à Lyon en partant de Strasbourg', {'entities': [(20, 24, 'ARR'), (39, 49, 'DEP')]}),\n",
    "    ('Je pars de Toulouse pour aller à Lyon', {'entities': [(11, 19, 'DEP'), (33, 37, 'ARR')]}),\n",
    "    ('Je vais à Toulouse depuis Lyon', {'entities': [(10, 18, 'ARR'), (26, 30, 'DEP')]}),\n",
    "    ('On voudrait aller à Toulouse en partant de Lyon', {'entities': [(20, 28, 'ARR'), (43, 47, 'DEP')]}),\n",
    "    ('Je pars de Strasbourg pour aller à Lyon', {'entities': [(11, 21, 'DEP'), (35, 39, 'ARR')]}),\n",
    "    ('Je vais à Strasbourg depuis Lyon', {'entities': [(10, 20, 'ARR'), (28, 32, 'DEP')]}),\n",
    "    ('On voudrait aller à Strasbourg en partant de Lyon', {'entities': [(20, 30, 'ARR'), (45, 49, 'DEP')]}),\n",
    "    ('Je pars de Lyon pour aller à Marseille', {'entities': [(11, 15, 'DEP'), (29, 38, 'ARR')]}),\n",
    "    ('Je vais à Lyon depuis Marseille', {'entities': [(10, 14, 'ARR'), (22, 31, 'DEP')]}),\n",
    "    ('On voudrait aller à Lyon en partant de Marseille', {'entities': [(20, 24, 'ARR'), (39, 48, 'DEP')]}),\n",
    "    ('Je pars de Lille pour aller à Paris', {'entities': [(11, 16, 'DEP'), (30, 35, 'ARR')]}),\n",
    "    ('Je vais à Lille depuis Paris', {'entities': [(10, 15, 'ARR'), (23, 28, 'DEP')]}),\n",
    "    ('On voudrait aller à Lille en partant de Paris', {'entities': [(20, 25, 'ARR'), (40, 45, 'DEP')]}),\n",
    "    ('Je pars de Nice pour aller à Toulouse', {'entities': [(11, 15, 'DEP'), (29, 37, 'ARR')]}),\n",
    "    ('Je vais à Nice depuis Toulouse', {'entities': [(10, 14, 'ARR'), (22, 30, 'DEP')]}),\n",
    "    ('On voudrait aller à Nice en partant de Toulouse', {'entities': [(20, 24, 'ARR'), (39, 47, 'DEP')]}),\n",
    "    ('Je pars de Marseille pour aller à Lyon', {'entities': [(11, 20, 'DEP'), (34, 38, 'ARR')]}),\n",
    "    ('Je vais à Marseille depuis Lyon', {'entities': [(10, 19, 'ARR'), (27, 31, 'DEP')]}),\n",
    "    ('On voudrait aller à Marseille en partant de Lyon', {'entities': [(20, 29, 'ARR'), (44, 48, 'DEP')]}),\n",
    "    ('Je pars de Strasbourg pour aller à Lyon', {'entities': [(11, 21, 'DEP'), (35, 39, 'ARR')]}),\n",
    "    ('Je vais à Strasbourg depuis Lyon', {'entities': [(10, 20, 'ARR'), (28, 32, 'DEP')]}),\n",
    "    ('On voudrait aller à Strasbourg en partant de Lyon', {'entities': [(20, 30, 'ARR'), (45, 49, 'DEP')]}),\n",
    "    ('Je pars de Lyon pour aller à Toulouse', {'entities': [(11, 15, 'DEP'), (29, 37, 'ARR')]}),\n",
    "    ('Je vais à Lyon depuis Toulouse', {'entities': [(10, 14, 'ARR'), (22, 30, 'DEP')]}),\n",
    "    ('On voudrait aller à Lyon en partant de Toulouse', {'entities': [(20, 24, 'ARR'), (39, 47, 'DEP')]}),\n",
    "    ('Je pars de Metz pour aller à Strasbourg', {'entities': [(11, 15, 'DEP'), (29, 39, 'ARR')]}),\n",
    "    ('Je vais à Metz depuis Strasbourg', {'entities': [(10, 14, 'ARR'), (22, 32, 'DEP')]}),\n",
    "    ('On voudrait aller à Metz en partant de Strasbourg', {'entities': [(20, 24, 'ARR'), (39, 49, 'DEP')]}),\n",
    "    ('Je pars de Bordeaux pour aller à Nancy', {'entities': [(11, 19, 'DEP'), (33, 38, 'ARR')]}),\n",
    "    ('Je vais à Bordeaux depuis Nancy', {'entities': [(10, 18, 'ARR'), (26, 31, 'DEP')]}),\n",
    "    ('On voudrait aller à Bordeaux en partant de Nancy', {'entities': [(20, 28, 'ARR'), (43, 48, 'DEP')]}),\n",
    "    ('Je pars de Paris pour aller à Metz', {'entities': [(11, 16, 'DEP'), (30, 34, 'ARR')]}),\n",
    "    ('Je vais à Paris depuis Metz', {'entities': [(10, 15, 'ARR'), (23, 27, 'DEP')]}),\n",
    "    ('On voudrait aller à Paris en partant de Metz', {'entities': [(20, 25, 'ARR'), (40, 44, 'DEP')]}),\n",
    "    ('Je pars de Nice pour aller à Nancy', {'entities': [(11, 15, 'DEP'), (29, 34, 'ARR')]}),\n",
    "    ('Je vais à Nice depuis Nancy', {'entities': [(10, 14, 'ARR'), (22, 27, 'DEP')]}),\n",
    "    ('On voudrait aller à Nice en partant de Nancy', {'entities': [(20, 24, 'ARR'), (39, 44, 'DEP')]}),\n",
    "    ('Je pars de Bordeaux pour aller à Lille', {'entities': [(11, 19, 'DEP'), (33, 38, 'ARR')]}),\n",
    "    ('Je vais à Bordeaux depuis Lille', {'entities': [(10, 18, 'ARR'), (26, 31, 'DEP')]}),\n",
    "    ('On voudrait aller à Bordeaux en partant de Lille', {'entities': [(20, 28, 'ARR'), (43, 48, 'DEP')]}),\n",
    "    ('Je pars de Nice pour aller à Strasbourg', {'entities': [(11, 15, 'DEP'), (29, 39, 'ARR')]}),\n",
    "    ('Je vais à Nice depuis Strasbourg', {'entities': [(10, 14, 'ARR'), (22, 32, 'DEP')]}),\n",
    "    ('On voudrait aller à Nice en partant de Strasbourg', {'entities': [(20, 24, 'ARR'), (39, 49, 'DEP')]}),\n",
    "    ('Je pars de Marseille pour aller à Nancy', {'entities': [(11, 20, 'DEP'), (34, 39, 'ARR')]}),\n",
    "    ('Je vais à Marseille depuis Nancy', {'entities': [(10, 19, 'ARR'), (27, 32, 'DEP')]}),\n",
    "    ('On voudrait aller à Marseille en partant de Nancy', {'entities': [(20, 29, 'ARR'), (44, 49, 'DEP')]}),\n",
    "    ('Je pars de Paris pour aller à Nancy', {'entities': [(11, 16, 'DEP'), (30, 35, 'ARR')]}),\n",
    "    ('Je vais à Paris depuis Nancy', {'entities': [(10, 15, 'ARR'), (23, 28, 'DEP')]}),\n",
    "    ('On voudrait aller à Paris en partant de Nancy', {'entities': [(20, 25, 'ARR'), (40, 45, 'DEP')]}),\n",
    "]\n"
   ]
  },
  {
   "cell_type": "code",
   "execution_count": 4,
   "metadata": {},
   "outputs": [
    {
     "name": "stdout",
     "output_type": "stream",
     "text": [
      "['O', 'O', 'O', 'O', 'U-ARR', 'O', 'O', 'O', 'U-DEP']\n",
      "['O', 'O', 'O', 'U-DEP', 'O', 'O', 'O', '-']\n",
      "['O', 'O', 'O', 'U-DEP', 'O', '-', 'O', 'O']\n",
      "['O', 'O', 'O', 'U-DEP', 'O', 'O', 'O', 'U-ARR']\n",
      "['O', 'O', 'O', 'O', 'O', 'O', 'O']\n",
      "['O', 'O', 'O', 'O', '-', '-', '-', '-', 'O']\n",
      "['O', 'O', 'O', 'U-DEP', 'O', 'O', 'O', 'U-ARR']\n",
      "['O', 'O', 'O', 'U-ARR', 'O', 'U-DEP']\n",
      "['O', 'O', 'O', 'O', 'U-ARR', 'O', 'O', 'O', 'U-DEP']\n",
      "['O', 'O', 'O', 'U-DEP', 'O', 'O', 'O', 'U-ARR']\n",
      "['O', 'O', 'O', 'U-ARR', 'O', 'U-DEP']\n",
      "['O', 'O', 'O', 'O', 'U-ARR', 'O', 'O', 'O', 'U-DEP']\n",
      "['O', 'O', 'O', 'U-DEP', 'O', 'O', 'O', 'U-ARR']\n",
      "['O', 'O', 'O', 'U-ARR', 'O', 'U-DEP']\n",
      "['O', 'O', 'O', 'O', 'U-ARR', 'O', 'O', 'O', 'U-DEP']\n",
      "['O', 'O', 'O', 'U-DEP', 'O', 'O', 'O', 'U-ARR']\n",
      "['O', 'O', 'O', 'U-ARR', 'O', 'U-DEP']\n",
      "['O', 'O', 'O', 'O', 'U-ARR', 'O', 'O', 'O', 'U-DEP']\n",
      "['O', 'O', 'O', 'U-DEP', 'O', 'O', 'O', 'U-ARR']\n",
      "['O', 'O', 'O', 'U-ARR', 'O', 'U-DEP']\n",
      "['O', 'O', 'O', 'O', 'U-ARR', 'O', 'O', 'O', 'U-DEP']\n",
      "['O', 'O', 'O', 'U-DEP', 'O', 'O', 'O', 'U-ARR']\n",
      "['O', 'O', 'O', 'U-ARR', 'O', 'U-DEP']\n",
      "['O', 'O', 'O', 'O', 'U-ARR', 'O', 'O', 'O', 'U-DEP']\n",
      "['O', 'O', 'O', 'U-DEP', 'O', 'O', 'O', 'U-ARR']\n",
      "['O', 'O', 'O', 'U-ARR', 'O', 'U-DEP']\n",
      "['O', 'O', 'O', 'O', 'U-ARR', 'O', 'O', 'O', 'U-DEP']\n",
      "['O', 'O', 'O', 'U-DEP', 'O', 'O', 'O', 'U-ARR']\n",
      "['O', 'O', 'O', 'U-ARR', 'O', 'U-DEP']\n",
      "['O', 'O', 'O', 'O', 'U-ARR', 'O', 'O', 'O', 'U-DEP']\n",
      "['O', 'O', 'O', 'U-DEP', 'O', 'O', 'O', 'U-ARR']\n",
      "['O', 'O', 'O', 'U-ARR', 'O', 'U-DEP']\n",
      "['O', 'O', 'O', 'O', 'U-ARR', 'O', 'O', 'O', 'U-DEP']\n",
      "['O', 'O', 'O', 'U-DEP', 'O', 'O', 'O', 'U-ARR']\n",
      "['O', 'O', 'O', 'U-ARR', 'O', 'U-DEP']\n",
      "['O', 'O', 'O', 'O', 'U-ARR', 'O', 'O', 'O', 'U-DEP']\n",
      "['O', 'O', 'O', 'U-DEP', 'O', 'O', 'O', 'U-ARR']\n",
      "['O', 'O', 'O', 'U-ARR', 'O', 'U-DEP']\n",
      "['O', 'O', 'O', 'O', 'U-ARR', 'O', 'O', 'O', 'U-DEP']\n",
      "['O', 'O', 'O', 'U-DEP', 'O', 'O', 'O', 'U-ARR']\n",
      "['O', 'O', 'O', 'U-ARR', 'O', 'U-DEP']\n",
      "['O', 'O', 'O', 'O', 'U-ARR', 'O', 'O', 'O', 'U-DEP']\n",
      "['O', 'O', 'O', 'U-DEP', 'O', 'O', 'O', 'U-ARR']\n",
      "['O', 'O', 'O', 'U-ARR', 'O', 'U-DEP']\n",
      "['O', 'O', 'O', 'O', 'U-ARR', 'O', 'O', 'O', 'U-DEP']\n",
      "['O', 'O', 'O', 'U-DEP', 'O', 'O', 'O', 'U-ARR']\n",
      "['O', 'O', 'O', 'U-ARR', 'O', 'U-DEP']\n",
      "['O', 'O', 'O', 'O', 'U-ARR', 'O', 'O', 'O', 'U-DEP']\n",
      "['O', 'O', 'O', 'U-DEP', 'O', 'O', 'O', 'U-ARR']\n",
      "['O', 'O', 'O', 'U-ARR', 'O', 'U-DEP']\n",
      "['O', 'O', 'O', 'O', 'U-ARR', 'O', 'O', 'O', 'U-DEP']\n",
      "['O', 'O', 'O', 'U-DEP', 'O', 'O', 'O', 'U-ARR']\n",
      "['O', 'O', 'O', 'U-ARR', 'O', 'U-DEP']\n",
      "['O', 'O', 'O', 'O', 'U-ARR', 'O', 'O', 'O', 'U-DEP']\n",
      "['O', 'O', 'O', 'U-DEP', 'O', 'O', 'O', 'U-ARR']\n",
      "['O', 'O', 'O', 'U-ARR', 'O', 'U-DEP']\n",
      "['O', 'O', 'O', 'O', 'U-ARR', 'O', 'O', 'O', 'U-DEP']\n",
      "['O', 'O', 'O', 'U-DEP', 'O', 'O', 'O', 'U-ARR']\n",
      "['O', 'O', 'O', 'U-ARR', 'O', 'U-DEP']\n",
      "['O', 'O', 'O', 'O', 'U-ARR', 'O', 'O', 'O', 'U-DEP']\n",
      "['O', 'O', 'O', 'U-DEP', 'O', 'O', 'O', 'U-ARR']\n",
      "['O', 'O', 'O', 'U-ARR', 'O', 'U-DEP']\n",
      "['O', 'O', 'O', 'O', 'U-ARR', 'O', 'O', 'O', 'U-DEP']\n",
      "['O', 'O', 'O', 'U-DEP', 'O', 'O', 'O', 'U-ARR']\n",
      "['O', 'O', 'O', 'U-ARR', 'O', 'U-DEP']\n",
      "['O', 'O', 'O', 'O', 'U-ARR', 'O', 'O', 'O', 'U-DEP']\n",
      "['O', 'O', 'O', 'U-DEP', 'O', 'O', 'O', 'U-ARR']\n",
      "['O', 'O', 'O', 'U-ARR', 'O', 'U-DEP']\n",
      "['O', 'O', 'O', 'O', 'U-ARR', 'O', 'O', 'O', 'U-DEP']\n",
      "['O', 'O', 'O', 'U-DEP', 'O', 'O', 'O', 'U-ARR']\n",
      "['O', 'O', 'O', 'U-ARR', 'O', 'U-DEP']\n",
      "['O', 'O', 'O', 'O', 'U-ARR', 'O', 'O', 'O', 'U-DEP']\n",
      "['O', 'O', 'O', 'U-DEP', 'O', 'O', 'O', 'U-ARR']\n",
      "['O', 'O', 'O', 'U-ARR', 'O', 'U-DEP']\n",
      "['O', 'O', 'O', 'O', 'U-ARR', 'O', 'O', 'O', 'U-DEP']\n",
      "['O', 'O', 'O', 'U-DEP', 'O', 'O', 'O', 'U-ARR']\n",
      "['O', 'O', 'O', 'U-ARR', 'O', 'U-DEP']\n",
      "['O', 'O', 'O', 'O', 'U-ARR', 'O', 'O', 'O', 'U-DEP']\n",
      "['O', 'O', 'O', 'U-DEP', 'O', 'O', 'O', 'U-ARR']\n",
      "['O', 'O', 'O', 'U-ARR', 'O', 'U-DEP']\n",
      "['O', 'O', 'O', 'O', 'U-ARR', 'O', 'O', 'O', 'U-DEP']\n",
      "['O', 'O', 'O', 'U-DEP', 'O', 'O', 'O', 'U-ARR']\n",
      "['O', 'O', 'O', 'U-ARR', 'O', 'U-DEP']\n",
      "['O', 'O', 'O', 'O', 'U-ARR', 'O', 'O', 'O', 'U-DEP']\n",
      "['O', 'O', 'O', 'U-DEP', 'O', 'O', 'O', 'U-ARR']\n",
      "['O', 'O', 'O', 'U-ARR', 'O', 'U-DEP']\n",
      "['O', 'O', 'O', 'O', 'U-ARR', 'O', 'O', 'O', 'U-DEP']\n",
      "['O', 'O', 'O', 'U-DEP', 'O', 'O', 'O', 'U-ARR']\n",
      "['O', 'O', 'O', 'U-ARR', 'O', 'U-DEP']\n",
      "['O', 'O', 'O', 'O', 'U-ARR', 'O', 'O', 'O', 'U-DEP']\n",
      "['O', 'O', 'O', 'U-DEP', 'O', 'O', 'O', 'U-ARR']\n",
      "['O', 'O', 'O', 'U-ARR', 'O', 'U-DEP']\n",
      "['O', 'O', 'O', 'O', 'U-ARR', 'O', 'O', 'O', 'U-DEP']\n",
      "['O', 'O', 'O', 'U-DEP', 'O', 'O', 'O', 'U-ARR']\n",
      "['O', 'O', 'O', 'U-ARR', 'O', 'U-DEP']\n",
      "['O', 'O', 'O', 'O', 'U-ARR', 'O', 'O', 'O', 'U-DEP']\n",
      "['O', 'O', 'O', 'U-DEP', 'O', 'O', 'O', 'U-ARR']\n",
      "['O', 'O', 'O', 'U-ARR', 'O', 'U-DEP']\n",
      "['O', 'O', 'O', 'O', 'U-ARR', 'O', 'O', 'O', 'U-DEP']\n",
      "['O', 'O', 'O', 'U-DEP', 'O', 'O', 'O', 'U-ARR']\n",
      "['O', 'O', 'O', 'U-ARR', 'O', 'U-DEP']\n",
      "['O', 'O', 'O', 'O', 'U-ARR', 'O', 'O', 'O', 'U-DEP']\n",
      "['O', 'O', 'O', 'U-DEP', 'O', 'O', 'O', 'U-ARR']\n",
      "['O', 'O', 'O', 'U-ARR', 'O', 'U-DEP']\n",
      "['O', 'O', 'O', 'O', 'U-ARR', 'O', 'O', 'O', 'U-DEP']\n",
      "['O', 'O', 'O', 'U-DEP', 'O', 'O', 'O', 'U-ARR']\n",
      "['O', 'O', 'O', 'U-ARR', 'O', 'U-DEP']\n",
      "['O', 'O', 'O', 'O', 'U-ARR', 'O', 'O', 'O', 'U-DEP']\n",
      "['O', 'O', 'O', 'U-DEP', 'O', 'O', 'O', 'U-ARR']\n",
      "['O', 'O', 'O', 'U-ARR', 'O', 'U-DEP']\n",
      "['O', 'O', 'O', 'O', 'U-ARR', 'O', 'O', 'O', 'U-DEP']\n",
      "['O', 'O', 'O', 'U-DEP', 'O', 'O', 'O', 'U-ARR']\n",
      "['O', 'O', 'O', 'U-ARR', 'O', 'U-DEP']\n",
      "['O', 'O', 'O', 'O', 'U-ARR', 'O', 'O', 'O', 'U-DEP']\n",
      "['O', 'O', 'O', 'U-DEP', 'O', 'O', 'O', 'U-ARR']\n",
      "['O', 'O', 'O', 'U-ARR', 'O', 'U-DEP']\n",
      "['O', 'O', 'O', 'O', 'U-ARR', 'O', 'O', 'O', 'U-DEP']\n",
      "['O', 'O', 'O', 'U-DEP', 'O', 'O', 'O', 'U-ARR']\n",
      "['O', 'O', 'O', 'U-ARR', 'O', 'U-DEP']\n",
      "['O', 'O', 'O', 'O', 'U-ARR', 'O', 'O', 'O', 'U-DEP']\n",
      "['O', 'O', 'O', 'U-DEP', 'O', 'O', 'O', 'U-ARR']\n",
      "['O', 'O', 'O', 'U-ARR', 'O', 'U-DEP']\n",
      "['O', 'O', 'O', 'O', 'U-ARR', 'O', 'O', 'O', 'U-DEP']\n",
      "['O', 'O', 'O', 'U-DEP', 'O', 'O', 'O', 'U-ARR']\n",
      "['O', 'O', 'O', 'U-ARR', 'O', 'U-DEP']\n",
      "['O', 'O', 'O', 'O', 'U-ARR', 'O', 'O', 'O', 'U-DEP']\n",
      "['O', 'O', 'O', 'U-DEP', 'O', 'O', 'O', 'U-ARR']\n",
      "['O', 'O', 'O', 'U-ARR', 'O', 'U-DEP']\n",
      "['O', 'O', 'O', 'O', 'U-ARR', 'O', 'O', 'O', 'U-DEP']\n",
      "['O', 'O', 'O', 'U-DEP', 'O', 'O', 'O', 'U-ARR']\n",
      "['O', 'O', 'O', 'U-ARR', 'O', 'U-DEP']\n",
      "['O', 'O', 'O', 'O', 'U-ARR', 'O', 'O', 'O', 'U-DEP']\n",
      "['O', 'O', 'O', 'U-DEP', 'O', 'O', 'O', 'U-ARR']\n",
      "['O', 'O', 'O', 'U-ARR', 'O', 'U-DEP']\n",
      "['O', 'O', 'O', 'O', 'U-ARR', 'O', 'O', 'O', 'U-DEP']\n",
      "['O', 'O', 'O', 'U-DEP', 'O', 'O', 'O', 'U-ARR']\n",
      "['O', 'O', 'O', 'U-ARR', 'O', 'U-DEP']\n",
      "['O', 'O', 'O', 'O', 'U-ARR', 'O', 'O', 'O', 'U-DEP']\n",
      "['O', 'O', 'O', 'U-DEP', 'O', 'O', 'O', 'U-ARR']\n",
      "['O', 'O', 'O', 'U-ARR', 'O', 'U-DEP']\n",
      "['O', 'O', 'O', 'O', 'U-ARR', 'O', 'O', 'O', 'U-DEP']\n",
      "['O', 'O', 'O', 'U-DEP', 'O', 'O', 'O', 'U-ARR']\n",
      "['O', 'O', 'O', 'U-ARR', 'O', 'U-DEP']\n",
      "['O', 'O', 'O', 'O', 'U-ARR', 'O', 'O', 'O', 'U-DEP']\n",
      "['O', 'O', 'O', 'U-DEP', 'O', 'O', 'O', 'U-ARR']\n",
      "['O', 'O', 'O', 'U-ARR', 'O', 'U-DEP']\n",
      "['O', 'O', 'O', 'O', 'U-ARR', 'O', 'O', 'O', 'U-DEP']\n"
     ]
    },
    {
     "name": "stderr",
     "output_type": "stream",
     "text": [
      "c:\\Users\\Guillaume\\AppData\\Local\\Programs\\Python\\Python310\\lib\\site-packages\\spacy\\training\\iob_utils.py:141: UserWarning: [W030] Some entities could not be aligned in the text \"Je pars de Metz pour aller à Lyon\" with entities \"[(11, 15, 'DEP'), (29, 32, 'ARR')]\". Use `spacy.training.offsets_to_biluo_tags(nlp.make_doc(text), entities)` to check the alignment. Misaligned entities ('-') will be ignored during training.\n",
      "  warnings.warn(\n",
      "c:\\Users\\Guillaume\\AppData\\Local\\Programs\\Python\\Python310\\lib\\site-packages\\spacy\\training\\iob_utils.py:141: UserWarning: [W030] Some entities could not be aligned in the text \"Je vais de Paris à Bordeaux en train\" with entities \"[(11, 16, 'DEP'), (19, 28, 'ARR')]\". Use `spacy.training.offsets_to_biluo_tags(nlp.make_doc(text), entities)` to check the alignment. Misaligned entities ('-') will be ignored during training.\n",
      "  warnings.warn(\n",
      "c:\\Users\\Guillaume\\AppData\\Local\\Programs\\Python\\Python310\\lib\\site-packages\\spacy\\training\\iob_utils.py:141: UserWarning: [W030] Some entities could not be aligned in the text \"Je veux aller de Nancy à Metz en train\" with entities \"[(20, 24, 'DEP'), (27, 31, 'ARR')]\". Use `spacy.training.offsets_to_biluo_tags(nlp.make_doc(text), entities)` to check the alignment. Misaligned entities ('-') will be ignored during training.\n",
      "  warnings.warn(\n"
     ]
    }
   ],
   "source": [
    "# Vérifier les offsets des entités dans le jeu de données d'entraînement ajusté\n",
    "for text, annotations in TRAIN_DATA:\n",
    "    doc = nlp.make_doc(text)\n",
    "    bilou_tags = spacy.training.offsets_to_biluo_tags(doc, annotations[\"entities\"])\n",
    "    print(bilou_tags)"
   ]
  },
  {
   "cell_type": "code",
   "execution_count": 5,
   "metadata": {},
   "outputs": [],
   "source": [
    "# Créez un modèle NER vide\n",
    "ner = nlp.get_pipe(\"ner\")"
   ]
  },
  {
   "cell_type": "code",
   "execution_count": 6,
   "metadata": {},
   "outputs": [],
   "source": [
    "# Convertissez les données d'entraînement en objets Example\n",
    "examples = []\n",
    "for text, annotations in TRAIN_DATA:\n",
    "    doc = nlp(text)\n",
    "    examples.append(spacy.training.Example.from_dict(doc, annotations))"
   ]
  },
  {
   "cell_type": "code",
   "execution_count": 7,
   "metadata": {},
   "outputs": [
    {
     "name": "stdout",
     "output_type": "stream",
     "text": [
      "Iteration 1: Loss 212.61070203781128\n",
      "Iteration 2: Loss 173.2482293844223\n",
      "Iteration 3: Loss 74.86445996165276\n",
      "Iteration 4: Loss 87.50112056732178\n",
      "Iteration 5: Loss 47.135117560625076\n",
      "Iteration 6: Loss 40.468199737370014\n",
      "Iteration 7: Loss 53.31969062238932\n",
      "Iteration 8: Loss 29.32993956375867\n",
      "Iteration 9: Loss 28.309034410864115\n",
      "Iteration 10: Loss 30.73588486900553\n",
      "Iteration 11: Loss 21.77192058088258\n",
      "Iteration 12: Loss 18.60540805431083\n",
      "Iteration 13: Loss 14.563572191691492\n",
      "Iteration 14: Loss 19.137049528508214\n",
      "Iteration 15: Loss 18.501199820253532\n",
      "Iteration 16: Loss 13.66911401040852\n",
      "Iteration 17: Loss 8.45338489767164\n",
      "Iteration 18: Loss 13.530357984054717\n",
      "Iteration 19: Loss 4.882145594994654\n",
      "Iteration 20: Loss 5.696393162914319\n",
      "Iteration 21: Loss 6.23874234248251\n",
      "Iteration 22: Loss 19.842632887126456\n",
      "Iteration 23: Loss 8.716382422935794\n",
      "Iteration 24: Loss 7.561443250693628\n",
      "Iteration 25: Loss 3.193654097105643\n",
      "Iteration 26: Loss 4.28695836807492\n",
      "Iteration 27: Loss 2.643015443719605\n",
      "Iteration 28: Loss 7.315989236068162\n",
      "Iteration 29: Loss 2.670895251592242\n",
      "Iteration 30: Loss 1.780525437706956\n"
     ]
    }
   ],
   "source": [
    "# Entraînez le modèle sur les données d'entraînement\n",
    "for itn in range(30):\n",
    "    random.shuffle(examples)\n",
    "    losses = {}\n",
    "    nlp.update(examples, drop=0.5, losses=losses)\n",
    "    print(f\"Iteration {itn+1}: Loss {losses['ner']}\")"
   ]
  },
  {
   "cell_type": "code",
   "execution_count": 8,
   "metadata": {},
   "outputs": [],
   "source": [
    "# Enregistrez le modèle entraîné pour l'utiliser plus tard\n",
    "nlp.to_disk(\"model_ner\")"
   ]
  },
  {
   "cell_type": "code",
   "execution_count": 9,
   "metadata": {},
   "outputs": [],
   "source": [
    "# Charger le modèle NER entraîné\n",
    "nlp = spacy.load(\"model_ner\")"
   ]
  },
  {
   "cell_type": "code",
   "execution_count": 10,
   "metadata": {},
   "outputs": [],
   "source": [
    "# Définir la phrase à analyser\n",
    "phrase = \"Je vais à Metz depuis Strasbourg\""
   ]
  },
  {
   "cell_type": "code",
   "execution_count": 15,
   "metadata": {},
   "outputs": [
    {
     "name": "stdout",
     "output_type": "stream",
     "text": [
      "[Metz, Strasbourg]\n"
     ]
    }
   ],
   "source": [
    "# Appliquer le modèle NER à la phrase\n",
    "doc = nlp(phrase)\n",
    "ents = [ent for ent in list(doc.ents) if ent.label_ != 'LOC']\n",
    "print(ents)"
   ]
  },
  {
   "cell_type": "code",
   "execution_count": 12,
   "metadata": {},
   "outputs": [
    {
     "data": {
      "text/plain": [
       "('ARR', 'DEP', 'LOC', 'MISC', 'ORG', 'PER')"
      ]
     },
     "execution_count": 12,
     "metadata": {},
     "output_type": "execute_result"
    }
   ],
   "source": [
    "nlp.get_pipe('ner').labels"
   ]
  },
  {
   "cell_type": "code",
   "execution_count": 13,
   "metadata": {},
   "outputs": [
    {
     "name": "stdout",
     "output_type": "stream",
     "text": [
      "Metz LOC\n",
      "Strasbourg LOC\n"
     ]
    }
   ],
   "source": [
    "# Afficher les entités détectées dans la phrase\n",
    "for ent in doc.ents:\n",
    "    print(ent.text, ent.label_)"
   ]
  }
 ],
 "metadata": {
  "kernelspec": {
   "display_name": "Python 3.10.5 64-bit",
   "language": "python",
   "name": "python3"
  },
  "language_info": {
   "codemirror_mode": {
    "name": "ipython",
    "version": 3
   },
   "file_extension": ".py",
   "mimetype": "text/x-python",
   "name": "python",
   "nbconvert_exporter": "python",
   "pygments_lexer": "ipython3",
   "version": "3.10.5"
  },
  "orig_nbformat": 4,
  "vscode": {
   "interpreter": {
    "hash": "eae5f59d8fba25bcfef2dd471563a815bcd0a3a96804762ddf906651e24b5951"
   }
  }
 },
 "nbformat": 4,
 "nbformat_minor": 2
}

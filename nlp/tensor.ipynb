{
 "cells": [
  {
   "cell_type": "code",
   "execution_count": 2,
   "metadata": {},
   "outputs": [
    {
     "name": "stdout",
     "output_type": "stream",
     "text": [
      "Epoch 1/10\n"
     ]
    },
    {
     "ename": "ValueError",
     "evalue": "in user code:\n\n    File \"c:\\Users\\Guillaume\\AppData\\Local\\Programs\\Python\\Python310\\lib\\site-packages\\keras\\engine\\training.py\", line 1249, in train_function  *\n        return step_function(self, iterator)\n    File \"c:\\Users\\Guillaume\\AppData\\Local\\Programs\\Python\\Python310\\lib\\site-packages\\keras\\engine\\training.py\", line 1233, in step_function  **\n        outputs = model.distribute_strategy.run(run_step, args=(data,))\n    File \"c:\\Users\\Guillaume\\AppData\\Local\\Programs\\Python\\Python310\\lib\\site-packages\\keras\\engine\\training.py\", line 1222, in run_step  **\n        outputs = model.train_step(data)\n    File \"c:\\Users\\Guillaume\\AppData\\Local\\Programs\\Python\\Python310\\lib\\site-packages\\keras\\engine\\training.py\", line 1025, in train_step\n        self._validate_target_and_loss(y, loss)\n    File \"c:\\Users\\Guillaume\\AppData\\Local\\Programs\\Python\\Python310\\lib\\site-packages\\keras\\engine\\training.py\", line 979, in _validate_target_and_loss\n        raise ValueError(\n\n    ValueError: Target data is missing. Your model was compiled with loss=categorical_crossentropy, and therefore expects target data to be provided in `fit()`.\n",
     "output_type": "error",
     "traceback": [
      "\u001b[1;31m---------------------------------------------------------------------------\u001b[0m",
      "\u001b[1;31mValueError\u001b[0m                                Traceback (most recent call last)",
      "\u001b[1;32mc:\\Users\\Guillaume\\Documents\\Epitoc\\MSC3\\T-AIA-901-NCY_1\\Project\\nlp\\tensor.ipynb Cellule 1\u001b[0m in \u001b[0;36m<cell line: 34>\u001b[1;34m()\u001b[0m\n\u001b[0;32m     <a href='vscode-notebook-cell:/c%3A/Users/Guillaume/Documents/Epitoc/MSC3/T-AIA-901-NCY_1/Project/nlp/tensor.ipynb#W0sZmlsZQ%3D%3D?line=30'>31</a>\u001b[0m model\u001b[39m.\u001b[39mcompile(loss\u001b[39m=\u001b[39m\u001b[39m\"\u001b[39m\u001b[39mcategorical_crossentropy\u001b[39m\u001b[39m\"\u001b[39m, optimizer\u001b[39m=\u001b[39m\u001b[39m\"\u001b[39m\u001b[39madam\u001b[39m\u001b[39m\"\u001b[39m)\n\u001b[0;32m     <a href='vscode-notebook-cell:/c%3A/Users/Guillaume/Documents/Epitoc/MSC3/T-AIA-901-NCY_1/Project/nlp/tensor.ipynb#W0sZmlsZQ%3D%3D?line=32'>33</a>\u001b[0m \u001b[39m# entrainement du modèle sur les données d'entrainement\u001b[39;00m\n\u001b[1;32m---> <a href='vscode-notebook-cell:/c%3A/Users/Guillaume/Documents/Epitoc/MSC3/T-AIA-901-NCY_1/Project/nlp/tensor.ipynb#W0sZmlsZQ%3D%3D?line=33'>34</a>\u001b[0m model\u001b[39m.\u001b[39;49mfit(train_data, epochs\u001b[39m=\u001b[39;49m\u001b[39m10\u001b[39;49m)\n\u001b[0;32m     <a href='vscode-notebook-cell:/c%3A/Users/Guillaume/Documents/Epitoc/MSC3/T-AIA-901-NCY_1/Project/nlp/tensor.ipynb#W0sZmlsZQ%3D%3D?line=35'>36</a>\u001b[0m \u001b[39m# utilisation du modèle pour prédire les points de départ et d'arrivée\u001b[39;00m\n\u001b[0;32m     <a href='vscode-notebook-cell:/c%3A/Users/Guillaume/Documents/Epitoc/MSC3/T-AIA-901-NCY_1/Project/nlp/tensor.ipynb#W0sZmlsZQ%3D%3D?line=36'>37</a>\u001b[0m \u001b[39m# dans une nouvelle phrase\u001b[39;00m\n\u001b[0;32m     <a href='vscode-notebook-cell:/c%3A/Users/Guillaume/Documents/Epitoc/MSC3/T-AIA-901-NCY_1/Project/nlp/tensor.ipynb#W0sZmlsZQ%3D%3D?line=37'>38</a>\u001b[0m predictions \u001b[39m=\u001b[39m model\u001b[39m.\u001b[39mpredict(\u001b[39m\"\u001b[39m\u001b[39mJe suis à Bordeaux et je vais à Lille\u001b[39m\u001b[39m\"\u001b[39m)\n",
      "File \u001b[1;32mc:\\Users\\Guillaume\\AppData\\Local\\Programs\\Python\\Python310\\lib\\site-packages\\keras\\utils\\traceback_utils.py:70\u001b[0m, in \u001b[0;36mfilter_traceback.<locals>.error_handler\u001b[1;34m(*args, **kwargs)\u001b[0m\n\u001b[0;32m     67\u001b[0m     filtered_tb \u001b[39m=\u001b[39m _process_traceback_frames(e\u001b[39m.\u001b[39m__traceback__)\n\u001b[0;32m     68\u001b[0m     \u001b[39m# To get the full stack trace, call:\u001b[39;00m\n\u001b[0;32m     69\u001b[0m     \u001b[39m# `tf.debugging.disable_traceback_filtering()`\u001b[39;00m\n\u001b[1;32m---> 70\u001b[0m     \u001b[39mraise\u001b[39;00m e\u001b[39m.\u001b[39mwith_traceback(filtered_tb) \u001b[39mfrom\u001b[39;00m \u001b[39mNone\u001b[39m\n\u001b[0;32m     71\u001b[0m \u001b[39mfinally\u001b[39;00m:\n\u001b[0;32m     72\u001b[0m     \u001b[39mdel\u001b[39;00m filtered_tb\n",
      "File \u001b[1;32mC:\\Users\\GUILLA~1\\AppData\\Local\\Temp\\__autograph_generated_fileweuf6xen.py:15\u001b[0m, in \u001b[0;36mouter_factory.<locals>.inner_factory.<locals>.tf__train_function\u001b[1;34m(iterator)\u001b[0m\n\u001b[0;32m     13\u001b[0m \u001b[39mtry\u001b[39;00m:\n\u001b[0;32m     14\u001b[0m     do_return \u001b[39m=\u001b[39m \u001b[39mTrue\u001b[39;00m\n\u001b[1;32m---> 15\u001b[0m     retval_ \u001b[39m=\u001b[39m ag__\u001b[39m.\u001b[39mconverted_call(ag__\u001b[39m.\u001b[39mld(step_function), (ag__\u001b[39m.\u001b[39mld(\u001b[39mself\u001b[39m), ag__\u001b[39m.\u001b[39mld(iterator)), \u001b[39mNone\u001b[39;00m, fscope)\n\u001b[0;32m     16\u001b[0m \u001b[39mexcept\u001b[39;00m:\n\u001b[0;32m     17\u001b[0m     do_return \u001b[39m=\u001b[39m \u001b[39mFalse\u001b[39;00m\n",
      "\u001b[1;31mValueError\u001b[0m: in user code:\n\n    File \"c:\\Users\\Guillaume\\AppData\\Local\\Programs\\Python\\Python310\\lib\\site-packages\\keras\\engine\\training.py\", line 1249, in train_function  *\n        return step_function(self, iterator)\n    File \"c:\\Users\\Guillaume\\AppData\\Local\\Programs\\Python\\Python310\\lib\\site-packages\\keras\\engine\\training.py\", line 1233, in step_function  **\n        outputs = model.distribute_strategy.run(run_step, args=(data,))\n    File \"c:\\Users\\Guillaume\\AppData\\Local\\Programs\\Python\\Python310\\lib\\site-packages\\keras\\engine\\training.py\", line 1222, in run_step  **\n        outputs = model.train_step(data)\n    File \"c:\\Users\\Guillaume\\AppData\\Local\\Programs\\Python\\Python310\\lib\\site-packages\\keras\\engine\\training.py\", line 1025, in train_step\n        self._validate_target_and_loss(y, loss)\n    File \"c:\\Users\\Guillaume\\AppData\\Local\\Programs\\Python\\Python310\\lib\\site-packages\\keras\\engine\\training.py\", line 979, in _validate_target_and_loss\n        raise ValueError(\n\n    ValueError: Target data is missing. Your model was compiled with loss=categorical_crossentropy, and therefore expects target data to be provided in `fit()`.\n"
     ]
    }
   ],
   "source": [
    "import tensorflow as tf\n",
    "\n",
    "# définition des données d'entrainement\n",
    "# chaque exemple inclut une phrase avec les points de départ et d'arrivée identifiés\n",
    "train_data = [\n",
    "    (\"Je suis à Paris et j'aimerais allez à Nice\", \"Paris\", \"Nice\"),\n",
    "    (\"De Paris j'aimerais me rendre à Lyon\", \"Paris\", \"Lyon\"),\n",
    "    (\"Je vais de Marseille à Toulouse\", \"Marseille\", \"Toulouse\"),\n",
    "    (\"Je veux allez de Nancy à Metz\", \"Nancy\", \"Metz\"),\n",
    "    (\"Paris, Mulhouse\", \"Paris\", \"Mulhouse\"),\n",
    "    (\"Je souhaite me rendre à Marseille depuis Besançon\", \"Besançon\", \"Marseille\"),\n",
    "]\n",
    "\n",
    "# calcul de la taille du vocabulaire à partir des données d'entrainement\n",
    "vocab = set()\n",
    "for example in train_data:\n",
    "    for word in example[0].split(\" \"):\n",
    "        vocab.add(word)\n",
    "vocab_size = len(vocab)\n",
    "\n",
    "# création du modèle d'apprentissage en profondeur\n",
    "model = tf.keras.Sequential()\n",
    "# ajout d'une couche d'embedding pour transformer les mots en vecteurs de nombres\n",
    "model.add(tf.keras.layers.Embedding(input_dim=vocab_size, output_dim=128))\n",
    "# ajout d'une couche LSTM pour traiter les séquences de mots\n",
    "model.add(tf.keras.layers.LSTM(units=128))\n",
    "# ajout d'une couche dense pour prédire les points de départ et d'arrivée\n",
    "model.add(tf.keras.layers.Dense(units=2, activation=\"softmax\"))\n",
    "\n",
    "# compilation du modèle avec une fonction de perte et un optimiseur\n",
    "model.compile(loss=\"categorical_crossentropy\", optimizer=\"adam\")\n",
    "\n",
    "# entrainement du modèle sur les données d'entrainement\n",
    "model.fit(train_data, epochs=10)\n",
    "\n",
    "# utilisation du modèle pour prédire les points de départ et d'arrivée\n",
    "# dans une nouvelle phrase\n",
    "predictions = model.predict(\"Je suis à Bordeaux et je vais à Lille\")\n",
    "# les prédictions seront de la forme [départ, arrivée]\n",
    "# par exemple : [0.8, 0.2] (80% de chance que Bordeaux soit le point de départ)"
   ]
  }
 ],
 "metadata": {
  "kernelspec": {
   "display_name": "Python 3.10.5 64-bit",
   "language": "python",
   "name": "python3"
  },
  "language_info": {
   "codemirror_mode": {
    "name": "ipython",
    "version": 3
   },
   "file_extension": ".py",
   "mimetype": "text/x-python",
   "name": "python",
   "nbconvert_exporter": "python",
   "pygments_lexer": "ipython3",
   "version": "3.10.5"
  },
  "orig_nbformat": 4,
  "vscode": {
   "interpreter": {
    "hash": "eae5f59d8fba25bcfef2dd471563a815bcd0a3a96804762ddf906651e24b5951"
   }
  }
 },
 "nbformat": 4,
 "nbformat_minor": 2
}

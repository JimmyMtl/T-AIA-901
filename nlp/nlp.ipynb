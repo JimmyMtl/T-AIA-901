{
 "cells": [
  {
   "cell_type": "code",
   "execution_count": 26,
   "metadata": {},
   "outputs": [
    {
     "name": "stdout",
     "output_type": "stream",
     "text": [
      "Exactitude pour les points de départ : 0.00\n",
      "Exactitude pour les points d'arrivée : 0.00\n"
     ]
    }
   ],
   "source": [
    "import nltk\n",
    "from sklearn.model_selection import train_test_split\n",
    "from sklearn.feature_extraction import DictVectorizer\n",
    "from sklearn.linear_model import LogisticRegression\n",
    "    \n",
    "# Préparation des données d'entraînement\n",
    "# Chaque élément de la liste est une phrase avec des étiquettes indiquant\n",
    "# les points de départ et d'arrivée\n",
    "data = [\n",
    "    {\n",
    "        'sentence': 'Je vais de Paris à Londres en train.',\n",
    "        'start': 'Paris',\n",
    "        'end': 'Londres'\n",
    "    },\n",
    "    {\n",
    "        'sentence': 'Le vol de New York à Los Angeles dure environ cinq heures.',\n",
    "        'start': 'New York',\n",
    "        'end': 'Los Angeles'\n",
    "    },\n",
    "    {\n",
    "        'sentence': 'Le voyage de Rome à Berlin prend environ sept heures en voiture.',\n",
    "        'start': 'Rome',\n",
    "        'end': 'Berlin'\n",
    "    },\n",
    "     {\n",
    "        'sentence': 'Je veux allez à Nancy et je suis a Paris.',\n",
    "        'start': 'Paris',\n",
    "        'end': 'Nancy'\n",
    "    },\n",
    "    {\n",
    "        'sentence': 'Je suis à Metz et je veux allez à Marseille',\n",
    "        'start': 'Metz',\n",
    "        'end': 'Marseille'\n",
    "    },\n",
    "    {\n",
    "        'sentence': 'Je veux allez à Strasbourg depuis Nice',\n",
    "        'start': 'Nice',\n",
    "        'end': 'Strasbourg'\n",
    "    }\n",
    "]\n",
    "\n",
    "# Séparation des données en ensembles d'entraînement et de test\n",
    "train_data, test_data = train_test_split(data, test_size=0.2)\n",
    "\n",
    "# Extraction des caractéristiques des phrases\n",
    "vectorizer = DictVectorizer()\n",
    "train_features = vectorizer.fit_transform(train_data)\n",
    "test_features = vectorizer.transform(test_data)\n",
    "\n",
    "# Entraînement du modèle\n",
    "start_classifier = LogisticRegression(solver='lbfgs')\n",
    "start_classifier.fit(train_features, [sent['start'] for sent in train_data])\n",
    "end_classifier = LogisticRegression(solver='lbfgs')\n",
    "end_classifier.fit(train_features, [sent['end'] for sent in train_data])\n",
    "\n",
    "# Évaluation du modèle sur les données de test\n",
    "start_predictions = start_classifier.predict(test_features)\n",
    "end_predictions = end_classifier.predict(test_features)\n",
    "\n",
    "# Calcul de l'exactitude des prédictions\n",
    "start_accuracy = nltk.accuracy(start_predictions, [sent['start'] for sent in test_data])\n",
    "end_accuracy = nltk.accuracy(end_predictions, [sent['end'] for sent in test_data])\n",
    "print('Exactitude pour les points de départ : %.2f' % start_accuracy)\n",
    "print('Exactitude pour les points d\\'arrivée : %.2f' % end_accuracy)"
   ]
  }
 ],
 "metadata": {
  "kernelspec": {
   "display_name": "Python 3.10.5 64-bit",
   "language": "python",
   "name": "python3"
  },
  "language_info": {
   "codemirror_mode": {
    "name": "ipython",
    "version": 3
   },
   "file_extension": ".py",
   "mimetype": "text/x-python",
   "name": "python",
   "nbconvert_exporter": "python",
   "pygments_lexer": "ipython3",
   "version": "3.10.5"
  },
  "orig_nbformat": 4,
  "vscode": {
   "interpreter": {
    "hash": "eae5f59d8fba25bcfef2dd471563a815bcd0a3a96804762ddf906651e24b5951"
   }
  }
 },
 "nbformat": 4,
 "nbformat_minor": 2
}

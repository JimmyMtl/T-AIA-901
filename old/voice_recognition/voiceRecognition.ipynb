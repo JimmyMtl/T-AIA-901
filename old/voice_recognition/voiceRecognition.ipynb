{
 "cells": [
  {
   "cell_type": "code",
   "execution_count": null,
   "metadata": {
    "collapsed": true,
    "pycharm": {
     "name": "#%%\n"
    }
   },
   "outputs": [],
   "source": [
    "!pip install SpeechRecognition --quiet\n",
    "!pip install pyttsx3 --quiet\n",
    "!pip install PyAudio --quiet\n",
    "import speech_recognition as sr\n",
    "import pyttsx3\n",
    "print(\"well get\")"
   ]
  },
  {
   "cell_type": "markdown",
   "source": [
    "## Initialize the recognizer"
   ],
   "metadata": {
    "collapsed": false,
    "pycharm": {
     "name": "#%% md\n"
    }
   }
  },
  {
   "cell_type": "code",
   "execution_count": null,
   "outputs": [],
   "source": [
    "r = sr.Recognizer()"
   ],
   "metadata": {
    "collapsed": false,
    "pycharm": {
     "name": "#%%\n"
    }
   }
  },
  {
   "cell_type": "code",
   "execution_count": null,
   "outputs": [],
   "source": [
    "def SpeakText(command):\n",
    "    # Initialize the engine\n",
    "    engine = pyttsx3.init()\n",
    "    engine.say(command)\n",
    "    engine.runAndWait()"
   ],
   "metadata": {
    "collapsed": false,
    "pycharm": {
     "name": "#%%\n"
    }
   }
  },
  {
   "cell_type": "code",
   "execution_count": null,
   "outputs": [
    {
     "ename": "UnknownValueError",
     "evalue": "",
     "output_type": "error",
     "traceback": [
      "\u001B[1;31m---------------------------------------------------------------------------\u001B[0m",
      "\u001B[1;31mUnknownValueError\u001B[0m                         Traceback (most recent call last)",
      "Cell \u001B[1;32mIn [23], line 6\u001B[0m\n\u001B[0;32m      2\u001B[0m r\u001B[38;5;241m.\u001B[39madjust_for_ambient_noise(source2, duration\u001B[38;5;241m=\u001B[39m\u001B[38;5;241m0.2\u001B[39m)\n\u001B[0;32m      4\u001B[0m audio2 \u001B[38;5;241m=\u001B[39m r\u001B[38;5;241m.\u001B[39mlisten(source2)\n\u001B[1;32m----> 6\u001B[0m MyText \u001B[38;5;241m=\u001B[39m r\u001B[38;5;241m.\u001B[39mrecognize_google(audio2)\n\u001B[0;32m      7\u001B[0m MyText \u001B[38;5;241m=\u001B[39m MyText\u001B[38;5;241m.\u001B[39mlower()\n\u001B[0;32m      8\u001B[0m \u001B[38;5;28mprint\u001B[39m(\u001B[38;5;124m\"\u001B[39m\u001B[38;5;124mDid you say \u001B[39m\u001B[38;5;124m\"\u001B[39m\u001B[38;5;241m+\u001B[39mMyText)\n",
      "File \u001B[1;32m~\\Documents\\Epitech\\MSc2\\Semestre1\\IA\\T-AIA-901\\RecognitionTest\\venv\\lib\\site-packages\\speech_recognition\\__init__.py:858\u001B[0m, in \u001B[0;36mRecognizer.recognize_google\u001B[1;34m(self, audio_data, key, language, show_all)\u001B[0m\n\u001B[0;32m    856\u001B[0m \u001B[38;5;66;03m# return results\u001B[39;00m\n\u001B[0;32m    857\u001B[0m \u001B[38;5;28;01mif\u001B[39;00m show_all: \u001B[38;5;28;01mreturn\u001B[39;00m actual_result\n\u001B[1;32m--> 858\u001B[0m \u001B[38;5;28;01mif\u001B[39;00m \u001B[38;5;129;01mnot\u001B[39;00m \u001B[38;5;28misinstance\u001B[39m(actual_result, \u001B[38;5;28mdict\u001B[39m) \u001B[38;5;129;01mor\u001B[39;00m \u001B[38;5;28mlen\u001B[39m(actual_result\u001B[38;5;241m.\u001B[39mget(\u001B[38;5;124m\"\u001B[39m\u001B[38;5;124malternative\u001B[39m\u001B[38;5;124m\"\u001B[39m, [])) \u001B[38;5;241m==\u001B[39m \u001B[38;5;241m0\u001B[39m: \u001B[38;5;28;01mraise\u001B[39;00m UnknownValueError()\n\u001B[0;32m    860\u001B[0m \u001B[38;5;28;01mif\u001B[39;00m \u001B[38;5;124m\"\u001B[39m\u001B[38;5;124mconfidence\u001B[39m\u001B[38;5;124m\"\u001B[39m \u001B[38;5;129;01min\u001B[39;00m actual_result[\u001B[38;5;124m\"\u001B[39m\u001B[38;5;124malternative\u001B[39m\u001B[38;5;124m\"\u001B[39m]:\n\u001B[0;32m    861\u001B[0m     \u001B[38;5;66;03m# return alternative with highest confidence score\u001B[39;00m\n\u001B[0;32m    862\u001B[0m     best_hypothesis \u001B[38;5;241m=\u001B[39m \u001B[38;5;28mmax\u001B[39m(actual_result[\u001B[38;5;124m\"\u001B[39m\u001B[38;5;124malternative\u001B[39m\u001B[38;5;124m\"\u001B[39m], key\u001B[38;5;241m=\u001B[39m\u001B[38;5;28;01mlambda\u001B[39;00m alternative: alternative[\u001B[38;5;124m\"\u001B[39m\u001B[38;5;124mconfidence\u001B[39m\u001B[38;5;124m\"\u001B[39m])\n",
      "\u001B[1;31mUnknownValueError\u001B[0m: "
     ]
    }
   ],
   "source": [
    "with sr.Microphone() as source2:\n",
    "    r.adjust_for_ambient_noise(source2, duration=0.2)\n",
    "\n",
    "    audio2 = r.listen(source2)\n",
    "\n",
    "    MyText = r.recognize_google(audio2)\n",
    "    MyText = MyText.lower()\n",
    "    print(\"Did you say \"+MyText)\n",
    "    SpeakText(MyText)"
   ],
   "metadata": {
    "collapsed": false,
    "pycharm": {
     "name": "#%%\n"
    }
   }
  },
  {
   "cell_type": "code",
   "execution_count": null,
   "outputs": [],
   "source": [],
   "metadata": {
    "collapsed": false,
    "pycharm": {
     "name": "#%%\n"
    }
   }
  }
 ],
 "metadata": {
  "kernelspec": {
   "display_name": "Python 3",
   "language": "python",
   "name": "python3"
  },
  "language_info": {
   "codemirror_mode": {
    "name": "ipython",
    "version": 2
   },
   "file_extension": ".py",
   "mimetype": "text/x-python",
   "name": "python",
   "nbconvert_exporter": "python",
   "pygments_lexer": "ipython2",
   "version": "2.7.6"
  }
 },
 "nbformat": 4,
 "nbformat_minor": 0
}
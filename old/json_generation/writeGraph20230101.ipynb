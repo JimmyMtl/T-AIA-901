{
 "cells": [
  {
   "cell_type": "markdown",
   "metadata": {},
   "source": [
    "# Shortest path"
   ]
  },
  {
   "cell_type": "code",
   "execution_count": 35,
   "metadata": {},
   "outputs": [],
   "source": [
    "import pandas as pd\n",
    "from tqdm import tqdm\n",
    "from datetime import datetime\n",
    "import json\n"
   ]
  },
  {
   "cell_type": "markdown",
   "metadata": {},
   "source": [
    "## Récuperer toutes les gares de France"
   ]
  },
  {
   "cell_type": "code",
   "execution_count": 36,
   "metadata": {},
   "outputs": [
    {
     "data": {
      "text/plain": "(9176, 9)"
     },
     "execution_count": 36,
     "metadata": {},
     "output_type": "execute_result"
    }
   ],
   "source": [
    "dfStop = pd.read_csv('../data_sncf/stops.txt', sep=\",\")\n",
    "dfStop.shape"
   ]
  },
  {
   "cell_type": "markdown",
   "source": [
    "# New way of calc"
   ],
   "metadata": {
    "collapsed": false,
    "pycharm": {
     "name": "#%% md\n"
    }
   }
  },
  {
   "cell_type": "markdown",
   "source": [
    "## Import file"
   ],
   "metadata": {
    "collapsed": false
   }
  },
  {
   "cell_type": "markdown",
   "source": [],
   "metadata": {
    "collapsed": false
   }
  },
  {
   "cell_type": "code",
   "execution_count": 37,
   "outputs": [
    {
     "data": {
      "text/plain": "                 trip_id                                             trajet  \\\n0  OCESN003100F140147152         Gare de Le Havre - Gare de Paris-St-Lazare   \n1  OCESN003190F040047309           Gare de Dieppe - Gare de Paris-St-Lazare   \n2  OCESN003198F030037315  Gare de Paris-St-Lazare - Gare de Rouen-Rive-D...   \n3  OCESN003300F030037323        Gare de Cherbourg - Gare de Paris-St-Lazare   \n4  OCESN003313F380387526             Gare de Caen - Gare de Paris-St-Lazare   \n\n   duree  \n0    138  \n1    145  \n2     97  \n3    194  \n4    149  ",
      "text/html": "<div>\n<style scoped>\n    .dataframe tbody tr th:only-of-type {\n        vertical-align: middle;\n    }\n\n    .dataframe tbody tr th {\n        vertical-align: top;\n    }\n\n    .dataframe thead th {\n        text-align: right;\n    }\n</style>\n<table border=\"1\" class=\"dataframe\">\n  <thead>\n    <tr style=\"text-align: right;\">\n      <th></th>\n      <th>trip_id</th>\n      <th>trajet</th>\n      <th>duree</th>\n    </tr>\n  </thead>\n  <tbody>\n    <tr>\n      <th>0</th>\n      <td>OCESN003100F140147152</td>\n      <td>Gare de Le Havre - Gare de Paris-St-Lazare</td>\n      <td>138</td>\n    </tr>\n    <tr>\n      <th>1</th>\n      <td>OCESN003190F040047309</td>\n      <td>Gare de Dieppe - Gare de Paris-St-Lazare</td>\n      <td>145</td>\n    </tr>\n    <tr>\n      <th>2</th>\n      <td>OCESN003198F030037315</td>\n      <td>Gare de Paris-St-Lazare - Gare de Rouen-Rive-D...</td>\n      <td>97</td>\n    </tr>\n    <tr>\n      <th>3</th>\n      <td>OCESN003300F030037323</td>\n      <td>Gare de Cherbourg - Gare de Paris-St-Lazare</td>\n      <td>194</td>\n    </tr>\n    <tr>\n      <th>4</th>\n      <td>OCESN003313F380387526</td>\n      <td>Gare de Caen - Gare de Paris-St-Lazare</td>\n      <td>149</td>\n    </tr>\n  </tbody>\n</table>\n</div>"
     },
     "execution_count": 37,
     "metadata": {},
     "output_type": "execute_result"
    }
   ],
   "source": [
    "dfTimeTables = pd.read_csv('../data_sncf/timetables.csv', sep=\"\\t\")\n",
    "dfTimeTables.dropna().head()\n"
   ],
   "metadata": {
    "collapsed": false,
    "pycharm": {
     "name": "#%%\n"
    }
   }
  },
  {
   "cell_type": "markdown",
   "source": [
    "## Split str to get departure and arrival"
   ],
   "metadata": {
    "collapsed": false
   }
  },
  {
   "cell_type": "markdown",
   "source": [
    "## Vérification de l'intégrité des données"
   ],
   "metadata": {
    "collapsed": false
   }
  },
  {
   "cell_type": "code",
   "execution_count": 38,
   "outputs": [
    {
     "name": "stdout",
     "output_type": "stream",
     "text": [
      "La colonne 'trajet' ne contient pas de valeurs nulles.\n",
      "Tous les éléments de la colonne 'trajet' ont exactement une occurrence de ' - '.\n"
     ]
    },
    {
     "data": {
      "text/plain": "Empty DataFrame\nColumns: [trip_id, trajet, duree]\nIndex: []",
      "text/html": "<div>\n<style scoped>\n    .dataframe tbody tr th:only-of-type {\n        vertical-align: middle;\n    }\n\n    .dataframe tbody tr th {\n        vertical-align: top;\n    }\n\n    .dataframe thead th {\n        text-align: right;\n    }\n</style>\n<table border=\"1\" class=\"dataframe\">\n  <thead>\n    <tr style=\"text-align: right;\">\n      <th></th>\n      <th>trip_id</th>\n      <th>trajet</th>\n      <th>duree</th>\n    </tr>\n  </thead>\n  <tbody>\n  </tbody>\n</table>\n</div>"
     },
     "execution_count": 38,
     "metadata": {},
     "output_type": "execute_result"
    }
   ],
   "source": [
    "# Vérifier si la colonne 'trajet' contient des valeurs nulles\n",
    "if dfTimeTables['trajet'].isnull().any():\n",
    "    print(\"La colonne 'trajet' contient des valeurs nulles.\")\n",
    "else:\n",
    "    print(\"La colonne 'trajet' ne contient pas de valeurs nulles.\")\n",
    "\n",
    "# Vérifier si tous les éléments de la colonne 'trajet' ont exactement une occurrence de ' - '\n",
    "if (dfTimeTables['trajet'].str.count(' - ') == 1).all():\n",
    "    print(\"Tous les éléments de la colonne 'trajet' ont exactement une occurrence de ' - '.\")\n",
    "else:\n",
    "    print(\"Certains éléments de la colonne 'trajet' n'ont pas exactement une occurrence de ' - '.\")\n",
    "\n",
    "dfTimeTables[dfTimeTables['trajet'].str.count(' - ') != 1]"
   ],
   "metadata": {
    "collapsed": false,
    "pycharm": {
     "name": "#%%\n"
    }
   }
  },
  {
   "cell_type": "markdown",
   "source": [
    "## Split de tous les trajets pour avoir le départ et l'arrivée"
   ],
   "metadata": {
    "collapsed": false
   }
  },
  {
   "cell_type": "code",
   "execution_count": 39,
   "outputs": [
    {
     "data": {
      "text/plain": "                 trip_id                                             trajet  \\\n0  OCESN003100F140147152         Gare de Le Havre - Gare de Paris-St-Lazare   \n1  OCESN003190F040047309           Gare de Dieppe - Gare de Paris-St-Lazare   \n2  OCESN003198F030037315  Gare de Paris-St-Lazare - Gare de Rouen-Rive-D...   \n3  OCESN003300F030037323        Gare de Cherbourg - Gare de Paris-St-Lazare   \n4  OCESN003313F380387526             Gare de Caen - Gare de Paris-St-Lazare   \n\n   duree                   depart                    arrivee  \n0    138         Gare de Le Havre    Gare de Paris-St-Lazare  \n1    145           Gare de Dieppe    Gare de Paris-St-Lazare  \n2     97  Gare de Paris-St-Lazare  Gare de Rouen-Rive-Droite  \n3    194        Gare de Cherbourg    Gare de Paris-St-Lazare  \n4    149             Gare de Caen    Gare de Paris-St-Lazare  ",
      "text/html": "<div>\n<style scoped>\n    .dataframe tbody tr th:only-of-type {\n        vertical-align: middle;\n    }\n\n    .dataframe tbody tr th {\n        vertical-align: top;\n    }\n\n    .dataframe thead th {\n        text-align: right;\n    }\n</style>\n<table border=\"1\" class=\"dataframe\">\n  <thead>\n    <tr style=\"text-align: right;\">\n      <th></th>\n      <th>trip_id</th>\n      <th>trajet</th>\n      <th>duree</th>\n      <th>depart</th>\n      <th>arrivee</th>\n    </tr>\n  </thead>\n  <tbody>\n    <tr>\n      <th>0</th>\n      <td>OCESN003100F140147152</td>\n      <td>Gare de Le Havre - Gare de Paris-St-Lazare</td>\n      <td>138</td>\n      <td>Gare de Le Havre</td>\n      <td>Gare de Paris-St-Lazare</td>\n    </tr>\n    <tr>\n      <th>1</th>\n      <td>OCESN003190F040047309</td>\n      <td>Gare de Dieppe - Gare de Paris-St-Lazare</td>\n      <td>145</td>\n      <td>Gare de Dieppe</td>\n      <td>Gare de Paris-St-Lazare</td>\n    </tr>\n    <tr>\n      <th>2</th>\n      <td>OCESN003198F030037315</td>\n      <td>Gare de Paris-St-Lazare - Gare de Rouen-Rive-D...</td>\n      <td>97</td>\n      <td>Gare de Paris-St-Lazare</td>\n      <td>Gare de Rouen-Rive-Droite</td>\n    </tr>\n    <tr>\n      <th>3</th>\n      <td>OCESN003300F030037323</td>\n      <td>Gare de Cherbourg - Gare de Paris-St-Lazare</td>\n      <td>194</td>\n      <td>Gare de Cherbourg</td>\n      <td>Gare de Paris-St-Lazare</td>\n    </tr>\n    <tr>\n      <th>4</th>\n      <td>OCESN003313F380387526</td>\n      <td>Gare de Caen - Gare de Paris-St-Lazare</td>\n      <td>149</td>\n      <td>Gare de Caen</td>\n      <td>Gare de Paris-St-Lazare</td>\n    </tr>\n  </tbody>\n</table>\n</div>"
     },
     "execution_count": 39,
     "metadata": {},
     "output_type": "execute_result"
    }
   ],
   "source": [
    "dfTimeTables[['depart', 'arrivee']] = dfTimeTables['trajet'].str.split(' - ', expand=True)\n",
    "\n",
    "dfTimeTables.head()"
   ],
   "metadata": {
    "collapsed": false,
    "pycharm": {
     "name": "#%%\n"
    }
   }
  },
  {
   "cell_type": "markdown",
   "source": [
    "## Création du graph avec tous les voisins"
   ],
   "metadata": {
    "collapsed": false
   }
  },
  {
   "cell_type": "code",
   "execution_count": 39,
   "outputs": [],
   "source": [],
   "metadata": {
    "collapsed": false,
    "pycharm": {
     "name": "#%%\n"
    }
   }
  },
  {
   "cell_type": "code",
   "execution_count": 40,
   "outputs": [],
   "source": [
    "def get_neighborv1():\n",
    "    graph = {}\n",
    "    # graph[dfTimeTables[\"depart\"].values[i]] = {}\n",
    "\n",
    "    for i in range(len(dfTimeTables[\"depart\"])):\n",
    "        try:\n",
    "            depart = dfTimeTables[\"depart\"].values[i]\n",
    "            arrivee = dfTimeTables[\"arrivee\"].values[i]\n",
    "            temps = dfTimeTables[\"duree\"].values[i]\n",
    "            if depart not in graph:\n",
    "                graph[depart] = {}\n",
    "            graph[depart] = {**graph[depart], arrivee: int(temps)}\n",
    "\n",
    "        except Exception as e:\n",
    "            print(\"Une erreur s'est produite: {}\".format(e))\n",
    "\n",
    "        # Récupération de tous les noms de gares\n",
    "        # On part du principe qu'un aller à forcément un retour, on peut donc ne\n",
    "        # rechercher que dans les départs\n",
    "\n",
    "    # # create json object from dictionary\n",
    "    json_values = json.dumps(graph)\n",
    "    print(json_values)\n",
    "    #\n",
    "    now = datetime.datetime.now()\n",
    "\n",
    "    # Create a file name with the current date and time\n",
    "    date_string = now.strftime(\"%Y-%m-%d_%H-%M-%S\")\n",
    "    file_name = \"data_\" + date_string + \".json\"\n",
    "\n",
    "    # # open file for writing, \"w\"\n",
    "    f = open(file_name, \"w\")\n",
    "    #\n",
    "    # # write json object to file\n",
    "    f.write(json_values)\n",
    "    #\n",
    "    # # close file\n",
    "    f.close()\n",
    "    print(graph)\n",
    "\n",
    "# get_neighborv1()"
   ],
   "metadata": {
    "collapsed": false,
    "pycharm": {
     "name": "#%%\n"
    }
   }
  },
  {
   "cell_type": "code",
   "execution_count": 41,
   "metadata": {},
   "outputs": [
    {
     "data": {
      "text/plain": "(2447, 9)"
     },
     "execution_count": 41,
     "metadata": {},
     "output_type": "execute_result"
    }
   ],
   "source": [
    "dfStop = dfStop[dfStop['stop_id'].str.contains('StopPoint:OCETrain')]\n",
    "dfStop.shape"
   ]
  },
  {
   "cell_type": "code",
   "execution_count": 42,
   "metadata": {},
   "outputs": [
    {
     "name": "stdout",
     "output_type": "stream",
     "text": [
      "['Gare de Paris-St-Lazare' 'Gare de Rouen-Rive-Droite' 'Gare de Montville'\n",
      " ... 'Gare de Novillars' 'Gare de Deluz' 'Gare de Laissey']\n"
     ]
    }
   ],
   "source": [
    "allGare = dfStop['stop_name'].unique()\n",
    "print(allGare)\n"
   ]
  },
  {
   "cell_type": "code",
   "execution_count": 42,
   "outputs": [],
   "source": [],
   "metadata": {
    "collapsed": false,
    "pycharm": {
     "name": "#%%\n"
    }
   }
  },
  {
   "cell_type": "markdown",
   "metadata": {},
   "source": [
    "## Extractons nos voisins"
   ]
  },
  {
   "cell_type": "code",
   "execution_count": 43,
   "metadata": {},
   "outputs": [
    {
     "name": "stderr",
     "output_type": "stream",
     "text": [
      "/var/folders/0l/4rhc85qd4kl41w3sd26dml3h0000gn/T/ipykernel_47126/3309677073.py:1: DtypeWarning: Columns (8) have mixed types. Specify dtype option on import or set low_memory=False.\n",
      "  dfStopTimes = pd.read_csv('../data_sncf/stop_times.txt', sep=\",\")\n"
     ]
    }
   ],
   "source": [
    "dfStopTimes = pd.read_csv('../data_sncf/stop_times.txt', sep=\",\")"
   ]
  },
  {
   "cell_type": "code",
   "execution_count": 44,
   "metadata": {},
   "outputs": [],
   "source": [
    "def str_to_time(timedate: str):\n",
    "    time_split = \"\"\n",
    "    try:\n",
    "        time_split = str(timedate).replace('1900-01-01 ','')\n",
    "    except Exception:\n",
    "        print(Exception)\n",
    "        pass\n",
    "    time_split = time_split.split(':')\n",
    "    if time_split[0] > '23':\n",
    "            time_split[0] = str(0)\n",
    "    time = f'{time_split[0]}:{time_split[1]}:{time_split[2]}'\n",
    "    # time_object = datetime.strptime(time, '%H:%M:%S')\n",
    "\n",
    "    return time\n",
    "\n"
   ]
  },
  {
   "cell_type": "code",
   "execution_count": 45,
   "outputs": [
    {
     "data": {
      "text/plain": "                  trip_id arrival_time departure_time  \\\n0  OCESN037071R0100119847     23:05:00       23:05:00   \n1  OCESN037071R0100119847     23:35:00       23:35:00   \n2  OCESN037071R0100119847     23:55:00       23:55:00   \n3  OCESN037071R0100119847      0:25:00        0:25:00   \n4  OCESN037071R0100119847      0:45:00        0:45:00   \n\n                         stop_id  stop_sequence  stop_headsign  pickup_type  \\\n0  StopPoint:OCECar TER-87381509              0            NaN            0   \n1  StopPoint:OCECar TER-87415604              1            NaN            0   \n2  StopPoint:OCECar TER-87415620              2            NaN            0   \n3  StopPoint:OCECar TER-87415877              3            NaN            0   \n4  StopPoint:OCECar TER-87411207              4            NaN            0   \n\n   drop_off_type shape_dist_traveled  \n0              0                 NaN  \n1              0                 NaN  \n2              0                 NaN  \n3              0                 NaN  \n4              0                 NaN  ",
      "text/html": "<div>\n<style scoped>\n    .dataframe tbody tr th:only-of-type {\n        vertical-align: middle;\n    }\n\n    .dataframe tbody tr th {\n        vertical-align: top;\n    }\n\n    .dataframe thead th {\n        text-align: right;\n    }\n</style>\n<table border=\"1\" class=\"dataframe\">\n  <thead>\n    <tr style=\"text-align: right;\">\n      <th></th>\n      <th>trip_id</th>\n      <th>arrival_time</th>\n      <th>departure_time</th>\n      <th>stop_id</th>\n      <th>stop_sequence</th>\n      <th>stop_headsign</th>\n      <th>pickup_type</th>\n      <th>drop_off_type</th>\n      <th>shape_dist_traveled</th>\n    </tr>\n  </thead>\n  <tbody>\n    <tr>\n      <th>0</th>\n      <td>OCESN037071R0100119847</td>\n      <td>23:05:00</td>\n      <td>23:05:00</td>\n      <td>StopPoint:OCECar TER-87381509</td>\n      <td>0</td>\n      <td>NaN</td>\n      <td>0</td>\n      <td>0</td>\n      <td>NaN</td>\n    </tr>\n    <tr>\n      <th>1</th>\n      <td>OCESN037071R0100119847</td>\n      <td>23:35:00</td>\n      <td>23:35:00</td>\n      <td>StopPoint:OCECar TER-87415604</td>\n      <td>1</td>\n      <td>NaN</td>\n      <td>0</td>\n      <td>0</td>\n      <td>NaN</td>\n    </tr>\n    <tr>\n      <th>2</th>\n      <td>OCESN037071R0100119847</td>\n      <td>23:55:00</td>\n      <td>23:55:00</td>\n      <td>StopPoint:OCECar TER-87415620</td>\n      <td>2</td>\n      <td>NaN</td>\n      <td>0</td>\n      <td>0</td>\n      <td>NaN</td>\n    </tr>\n    <tr>\n      <th>3</th>\n      <td>OCESN037071R0100119847</td>\n      <td>0:25:00</td>\n      <td>0:25:00</td>\n      <td>StopPoint:OCECar TER-87415877</td>\n      <td>3</td>\n      <td>NaN</td>\n      <td>0</td>\n      <td>0</td>\n      <td>NaN</td>\n    </tr>\n    <tr>\n      <th>4</th>\n      <td>OCESN037071R0100119847</td>\n      <td>0:45:00</td>\n      <td>0:45:00</td>\n      <td>StopPoint:OCECar TER-87411207</td>\n      <td>4</td>\n      <td>NaN</td>\n      <td>0</td>\n      <td>0</td>\n      <td>NaN</td>\n    </tr>\n  </tbody>\n</table>\n</div>"
     },
     "execution_count": 45,
     "metadata": {},
     "output_type": "execute_result"
    }
   ],
   "source": [
    "# Pre-format date of the dataframe\n",
    "dfStopTimes['departure_time'] = dfStopTimes['departure_time'].apply(str_to_time)\n",
    "dfStopTimes['arrival_time'] = dfStopTimes['arrival_time'].apply(str_to_time)\n",
    "dfStopTimes.head()"
   ],
   "metadata": {
    "collapsed": false,
    "pycharm": {
     "name": "#%%\n"
    }
   }
  },
  {
   "cell_type": "code",
   "execution_count": 46,
   "metadata": {},
   "outputs": [],
   "source": [
    "def getVoisins(gare):\n",
    "    # on recupere le stopID de notre gare\n",
    "    stopID = dfStop[(dfStop.stop_name == gare)].stop_id.values[0]\n",
    "    # on recupere les trajets qui passent par cette gare\n",
    "    trajets = dfStopTimes[dfStopTimes['stop_id'] == stopID]\n",
    "    listeVoisinsGare = {}\n",
    "\n",
    "    for i in range(len(trajets)):\n",
    "        # on recupere la position de la gare dans le trajet\n",
    "        stopSequence = trajets['stop_sequence'].values[i]\n",
    "        # on recupere le tripID du trajet\n",
    "        tripId = trajets['trip_id'].values[i]\n",
    "        # on recupere les times de notre gare\n",
    "        departureTimeGare = str_to_time(trajets['departure_time'].values[i])\n",
    "        arivalTimeGare = str_to_time(trajets['arrival_time'].values[i])\n",
    "\n",
    "        try:\n",
    "            # on recupere la gare précédente\n",
    "            voisin1 = dfStopTimes[(dfStopTimes['trip_id'] == tripId) & (\n",
    "                dfStopTimes['stop_sequence'] == stopSequence - 1)]\n",
    "            # on recupere le departure time de la gare précédente\n",
    "            departureTimeVoisin1 = str_to_time(voisin1.departure_time.values[0])\n",
    "            # on recupere le nom de la gare\n",
    "            voisin1 = dfStop[dfStop['stop_id'] ==\n",
    "                             voisin1.stop_id.values[0]].stop_name.values[0]\n",
    "            # on calcule le temps de trajet\n",
    "            tempsTrajetvoisin1 = arivalTimeGare - departureTimeVoisin1\n",
    "            # on ajoute le voisin et le temps de trajet dans le dictionnaire\n",
    "            listeVoisinsGare[voisin1] = tempsTrajetvoisin1.seconds\n",
    "        except:\n",
    "            continue\n",
    "\n",
    "        try:\n",
    "            # on recupere la gare suivante\n",
    "            voisin2 = dfStopTimes[(dfStopTimes['trip_id'] == tripId) & (\n",
    "                dfStopTimes['stop_sequence'] == stopSequence + 1)]\n",
    "            # on recupere le departure time de la gare suivante\n",
    "            arrivalTimeVoisin2 = str_to_time(voisin2.departure_time.values[0])\n",
    "            # on recupere le nom de la gare\n",
    "            voisin2 = dfStop[dfStop['stop_id'] ==\n",
    "                             voisin2.stop_id.values[0]].stop_name.values[0]\n",
    "            # on calcule le temps de trajet\n",
    "            tempsTrajetvoisin2 = arrivalTimeVoisin2 - departureTimeGare\n",
    "            # on ajoute le voisin et le temps de trajet dans le dictionnaire\n",
    "            listeVoisinsGare[voisin2] = tempsTrajetvoisin2.seconds\n",
    "        except:\n",
    "            continue\n",
    "\n",
    "    # on retourne notre liste dans un set pour supprimer les doublons\n",
    "    return listeVoisinsGare\n"
   ]
  },
  {
   "cell_type": "code",
   "execution_count": 47,
   "outputs": [],
   "source": [
    "def getVoisins3(gare):\n",
    "    stopID = dfStop[(dfStop.stop_name == gare)].stop_id.values[0]\n",
    "    trajets = dfStopTimes[dfStopTimes['stop_id'] == stopID]\n",
    "    listeVoisinsGare = {}\n",
    "\n",
    "    for stopSequence, tripId in zip(trajets['stop_sequence'].values, trajets['trip_id'].values):\n",
    "        try:\n",
    "            departureTimeGare = str_to_time(trajets['departure_time'].values[i])\n",
    "            arivalTimeGare = str_to_time(trajets['arrival_time'].values[i])\n",
    "            mask1 = (dfStopTimes['trip_id'] == tripId) & (dfStopTimes['stop_sequence'] == stopSequence - 1)\n",
    "            mask2 = (dfStopTimes['trip_id'] == tripId) & (dfStopTimes['stop_sequence'] == stopSequence + 1)\n",
    "\n",
    "            voisin1 = dfStopTimes[mask1]\n",
    "            voisin2 = dfStopTimes[mask2]\n",
    "\n",
    "            if voisin1.size > 0:\n",
    "                departureTimeVoisin1 = str_to_time(voisin1.departure_time.values[0])\n",
    "                voisin1Name = dfStop[dfStop['stop_id'] == voisin1.stop_id.values[0]].stop_name.values[0]\n",
    "                tempsTrajetvoisin1 = arivalTimeGare - departureTimeVoisin1\n",
    "                listeVoisinsGare[voisin1Name] = tempsTrajetvoisin1.seconds\n",
    "\n",
    "            if voisin2.size > 0:\n",
    "                arrivalTimeVoisin2 = str_to_time(voisin2.departure_time.values[0])\n",
    "                voisin2Name = dfStop[dfStop['stop_id'] == voisin2.stop_id.values[0]].stop_name.values[0]\n",
    "                tempsTrajetvoisin2 = arrivalTimeVoisin2 - departureTimeGare\n",
    "                listeVoisinsGare[voisin2Name] = tempsTrajetvoisin2.seconds\n",
    "        except:\n",
    "            continue\n",
    "    return listeVoisinsGare"
   ],
   "metadata": {
    "collapsed": false,
    "pycharm": {
     "name": "#%%\n"
    }
   }
  },
  {
   "cell_type": "code",
   "execution_count": 48,
   "outputs": [],
   "source": [
    "def getVoisins4(gare):\n",
    "    stopID = dfStop[(dfStop.stop_name == gare)].stop_id.values[0]\n",
    "    trajets = dfStopTimes[dfStopTimes['stop_id'] == stopID]\n",
    "    listeVoisinsGare = {}\n",
    "\n",
    "    stopSequences, tripIds = trajets['stop_sequence'].values, trajets['trip_id'].values\n",
    "    departureTimesGare, arrivalTimesGare = trajets[['departure_time', 'arrival_time']]\n",
    "\n",
    "    mask1 = (dfStopTimes['trip_id'].values[:, None] == tripIds) & (\n",
    "                dfStopTimes['stop_sequence'].values[:, None] == stopSequences[None, :] - 1)\n",
    "    print(mask1)\n",
    "    mask2 = (dfStopTimes['trip_id'].values[:, None] == tripIds) & (\n",
    "                dfStopTimes['stop_sequence'].values[:, None] == stopSequences[None, :] + 1)\n",
    "    print(mask2)\n",
    "\n",
    "    voisin1 = dfStopTimes[mask1]\n",
    "    voisin2 = dfStopTimes[mask2]\n",
    "\n",
    "    voisin1Name = dfStop.loc[voisin1['stop_id'], 'stop_name'].values\n",
    "    voisin2Name = dfStop.loc[voisin2['stop_id'], 'stop_name'].values\n",
    "    departureTimesVoisin1, arrivalTimesVoisin2 = voisin1[['departure_time', 'arrival_time']]\n",
    "\n",
    "    tempsTrajetvoisin1 = arrivalTimesGare[:, None] - departureTimesVoisin1[None, :]\n",
    "    tempsTrajetvoisin2 = arrivalTimesVoisin2[:, None] - departureTimesGare[None, :]\n",
    "\n",
    "    listeVoisinsGare.update(dict(zip(voisin1Name, tempsTrajetvoisin1.flatten())))\n",
    "    listeVoisinsGare.update(dict(zip(voisin2Name, tempsTrajetvoisin2.flatten())))\n",
    "\n",
    "    return listeVoisinsGare"
   ],
   "metadata": {
    "collapsed": false,
    "pycharm": {
     "name": "#%%\n"
    }
   }
  },
  {
   "cell_type": "code",
   "execution_count": 49,
   "outputs": [],
   "source": [
    "# def get_neighborv2():\n",
    "#     graph = {}\n",
    "#\n",
    "#     # for i in tqdm(range(len(allGare))):\n",
    "#     for i in range(10):\n",
    "#         depart = dfStop[\"stop_name\"].values[i]\n",
    "#         # On récupère l'id/stop id de notre gare\n",
    "#         stopID = dfStop[(dfStop.stop_name == allGare[i])].stop_id.values[0]\n",
    "#\n",
    "#         # On récupère les trajets qui passent par cette gare\n",
    "#         trajets = dfStopTimes[dfStopTimes['stop_id'] == stopID]\n",
    "#\n",
    "#         # On parcours ces trajets\n",
    "#         for j in range(len(trajets)):\n",
    "#             # on recupere la position de la gare dans le trajet\n",
    "#             stopSequence = trajets['stop_sequence'].values[j]\n",
    "#             print(stopSequence)\n",
    "#             # on recupere le tripID du trajet\n",
    "#             tripId = trajets['trip_id'].values[j]\n",
    "#             # graph[depart] = {**graph[depart], voisin: 1}\n",
    "#\n",
    "#             # on recupere les times de notre gare\n",
    "#             # departureTimeGare = str_to_time(trajets['departure_time'].values[j])\n",
    "#             # arivalTimeGare = str_to_time(trajets['arrival_time'].values[j])\n",
    "#\n",
    "#         # on recupere les trajets qui passent par cette gare\n",
    "#         trajets = dfStopTimes[dfStopTimes['stop_id'] == stopID]\n",
    "#         try:\n",
    "#             print(\"le\")\n",
    "#             # depart = dfStop['stop_name'].values[i]\n",
    "#             # if depart not in graph:\n",
    "#             #     graph[depart] = {}\n",
    "#             # print(trajets)\n",
    "#             # for j in range(len(trajets)):\n",
    "#             #\n",
    "#             #     graph[depart] = {**graph[depart], trajets[j]: 1}\n",
    "#         except Exception as e:\n",
    "#             print(\"Une erreur s'est produite: {}\".format(e))\n",
    "#\n",
    "#     print(graph)\n",
    "#\n",
    "# #\n",
    "# # get_neighborv2()"
   ],
   "metadata": {
    "collapsed": false,
    "pycharm": {
     "name": "#%%\n"
    }
   }
  },
  {
   "cell_type": "code",
   "execution_count": 50,
   "outputs": [],
   "source": [
    "def getVoisins5(gare):\n",
    "    # on recupere le stopID de notre gare\n",
    "    stopID = dfStop.loc[dfStop.stop_name == gare, 'stop_id'].iloc[0]\n",
    "    # on recupere les trajets qui passent par cette gare\n",
    "    trajets = dfStopTimes[dfStopTimes['stop_id'] == stopID]\n",
    "    listeVoisinsGare = {}\n",
    "\n",
    "    for j, row in trajets.iterrows():\n",
    "        # on recupere la position de la gare dans le trajet\n",
    "        stopSequence = row['stop_sequence']\n",
    "        # on recupere le tripID du trajet\n",
    "        tripId = row['trip_id']\n",
    "        # on recupere les times de notre gare\n",
    "        departureTimeGare = str_to_time(row['departure_time'])\n",
    "        arivalTimeGare = str_to_time(row['arrival_time'])\n",
    "\n",
    "        # on recupere la gare précédente\n",
    "        voisin1 = dfStopTimes[(dfStopTimes['trip_id'] == tripId) & (\n",
    "                dfStopTimes['stop_sequence'] == stopSequence - 1)]\n",
    "        try:\n",
    "            # on recupere le departure time de la gare précédente\n",
    "            departureTimeVoisin1 = str_to_time(voisin1.departure_time.iloc[0])\n",
    "            # on recupere le nom de la gare\n",
    "            voisin1 = dfStop.loc[dfStop['stop_id'] == voisin1.stop_id.iloc[0], 'stop_name'].iloc[0]\n",
    "            # on calcule le temps de trajet\n",
    "            tempsTrajetvoisin1 = arivalTimeGare - departureTimeVoisin1\n",
    "            # on ajoute le voisin et le temps de trajet dans le dictionnaire\n",
    "            listeVoisinsGare[voisin1] = tempsTrajetvoisin1.seconds\n",
    "        except:\n",
    "            continue\n",
    "        # on recupere la gare suivante\n",
    "        voisin2 = dfStopTimes[(dfStopTimes['trip_id'] == tripId) & (\n",
    "                dfStopTimes['stop_sequence'] == stopSequence + 1)]\n",
    "        try:\n",
    "\n",
    "            # on recupere le arrival time de la gare suivante\n",
    "            arrivalTimeVoisin2 = str_to_time(voisin2.departure_time.iloc[0])\n",
    "            # on recupere le nom de la gare\n",
    "            voisin2 = dfStop.loc[dfStop['stop_id'] == voisin2.stop_id.iloc[0], 'stop_name'].iloc[0]\n",
    "            # on calcule le temps de trajet\n",
    "            tempsTrajetvoisin2 = arrivalTimeVoisin2 - departureTimeGare\n",
    "            # on ajoute le voisin et le temps de trajet dans le dictionnaire\n",
    "            listeVoisinsGare[voisin2] = tempsTrajetvoisin2.seconds\n",
    "        except:\n",
    "            continue\n",
    "    # on retourne notre liste dans un set pour supprimer les doublons\n",
    "    return listeVoisinsGare"
   ],
   "metadata": {
    "collapsed": false,
    "pycharm": {
     "name": "#%%\n"
    }
   }
  },
  {
   "cell_type": "code",
   "execution_count": 51,
   "outputs": [],
   "source": [
    "def getVoisins6(gare):\n",
    "    # on recupere le stopID de notre gare\n",
    "    stopID = dfStop.loc[dfStop.stop_name == gare, 'stop_id'].iloc[0]\n",
    "    # on recupere les trajets qui passent par cette gare\n",
    "    trajets = dfStopTimes[dfStopTimes['stop_id'] == stopID]\n",
    "    listeVoisinsGare = {}\n",
    "\n",
    "    def calc_voisins(row):\n",
    "        # on recupere la position de la gare dans le trajet\n",
    "        stopSequence = row['stop_sequence']\n",
    "        # on recupere le tripID du trajet\n",
    "        tripId = row['trip_id']\n",
    "        # on recupere les times de notre gare\n",
    "        departureTimeGare = str_to_time(row['departure_time'])\n",
    "        arivalTimeGare = str_to_time(row['arrival_time'])\n",
    "\n",
    "        # on regroupe les lignes du dataframe par tripId et on décale les valeurs de stop_sequence\n",
    "        df_voisins = dfStopTimes.groupby('trip_id')\n",
    "        # print(dfStopTimes.head())\n",
    "        # on recupere la gare précédente\n",
    "        voisin1 = df_voisins[(df_voisins['trip_id'] == tripId) & (df_voisins['stop_sequence'] == stopSequence - 1)]\n",
    "        try:\n",
    "            # on recupere le departure time de la gare précédente\n",
    "            departureTimeVoisin1 = str_to_time(voisin1.departure_time.iloc[0])\n",
    "            # on recupere le nom de la gare\n",
    "            voisin1 = dfStop.loc[dfStop['stop_id'] == voisin1.stop_id.iloc[0], 'stop_name'].iloc[0]\n",
    "            # on calcule le temps de trajet\n",
    "            tempsTrajetvoisin1 = arivalTimeGare - departureTimeVoisin1\n",
    "            # on ajoute le voisin et le temps de trajet dans le dictionnaire\n",
    "            listeVoisinsGare[voisin1] = tempsTrajetvoisin1.seconds\n",
    "        except:\n",
    "            pass\n",
    "\n",
    "        # on recupere la gare suivante\n",
    "        voisin2 = df_voisins[(df_voisins['trip_id'] == tripId) & (df_voisins['stop_sequence'] == stopSequence + 1)]\n",
    "        try:\n",
    "            # on recupere le arrival time de la gare suivante\n",
    "            arrivalTimeVoisin2 = str_to_time(voisin2.departure_time.iloc[0])\n",
    "            # on recupere le nom de la gare\n",
    "            voisin2 = dfStop.loc[dfStop['stop_id'] == voisin2.stop_id.iloc[0], 'stop_name'].iloc[0]\n",
    "            # on calcule le temps de trajet\n",
    "            tempsTrajetvoisin2 = arrivalTimeVoisin2 - departureTimeGare\n",
    "            # on ajoute le voisin et le temps de trajet dans le dictionnaire\n",
    "            listeVoisinsGare[voisin2] = tempsTrajetvoisin2.seconds\n",
    "        except:\n",
    "            pass\n",
    "\n",
    "    # on applique la fonction aux lignes du dataframe 'trajets'\n",
    "    trajets.apply(calc_voisins, axis=1)\n",
    "    # on retourne notre liste dans un set pour supprimer les doublons\n",
    "    return listeVoisinsGare\n",
    "\n",
    "\n",
    "\n",
    "\n"
   ],
   "metadata": {
    "collapsed": false,
    "pycharm": {
     "name": "#%%\n"
    }
   }
  },
  {
   "cell_type": "code",
   "execution_count": 52,
   "outputs": [],
   "source": [
    "def getVoisins7(gare):\n",
    "    # on recupere le stopID de notre gare\n",
    "    stopID = dfStop[(dfStop.stop_name == gare)].stop_id.values[0]\n",
    "    # on recupere les trajets qui passent par cette gare\n",
    "    trajets = dfStopTimes[dfStopTimes['stop_id'] == stopID]\n",
    "    listeVoisinsGare = {}\n",
    "\n",
    "    for i in range(len(trajets)):\n",
    "\n",
    "        # on recupere la position de la gare dans le trajet\n",
    "        stopSequence = trajets['stop_sequence'].values[i]\n",
    "        # on recupere le tripID du trajet\n",
    "        tripId = trajets['trip_id'].values[i]\n",
    "        # on recupere les times de notre gare\n",
    "        departureTimeGare = trajets['departure_time'].values[i]\n",
    "        arivalTimeGare = trajets['arrival_time'].values[i]\n",
    "\n",
    "        try:\n",
    "            # on recupere la gare précédente\n",
    "            voisin1 = dfStopTimes[(dfStopTimes['trip_id'] == tripId) & (\n",
    "                    dfStopTimes['stop_sequence'] == stopSequence - 1)]\n",
    "            # on recupere le departure time de la gare précédente\n",
    "            departureTimeVoisin1 = voisin1.departure_time.values[0]\n",
    "            # on recupere le nom de la gare\n",
    "            voisin1 = dfStop[dfStop['stop_id'] ==\n",
    "                             voisin1.stop_id.values[0]].stop_name.values[0]\n",
    "            # on calcule le temps de trajet\n",
    "            tempsTrajetvoisin1 = arivalTimeGare - departureTimeVoisin1\n",
    "            # on ajoute le voisin et le temps de trajet dans le dictionnaire\n",
    "            listeVoisinsGare[voisin1] = tempsTrajetvoisin1.seconds\n",
    "        except:\n",
    "            continue\n",
    "\n",
    "        try:\n",
    "            # on recupere la gare suivante\n",
    "            voisin2 = dfStopTimes[(dfStopTimes['trip_id'] == tripId) & (\n",
    "                    dfStopTimes['stop_sequence'] == stopSequence + 1)]\n",
    "            # on recupere le departure time de la gare suivante\n",
    "            arrivalTimeVoisin2 = voisin2.departure_time.values[0]\n",
    "            # on recupere le nom de la gare\n",
    "            voisin2 = dfStop[dfStop['stop_id'] ==\n",
    "                             voisin2.stop_id.values[0]].stop_name.values[0]\n",
    "            # on calcule le temps de trajet\n",
    "            tempsTrajetvoisin2 = arrivalTimeVoisin2 - departureTimeGare\n",
    "            # on ajoute le voisin et le temps de trajet dans le dictionnaire\n",
    "            listeVoisinsGare[voisin2] = tempsTrajetvoisin2.seconds\n",
    "        except:\n",
    "            continue\n",
    "\n",
    "    # on retourne notre liste dans un set pour supprimer les doublons\n",
    "    return listeVoisinsGare\n"
   ],
   "metadata": {
    "collapsed": false,
    "pycharm": {
     "name": "#%%\n"
    }
   }
  },
  {
   "cell_type": "code",
   "execution_count": 53,
   "metadata": {},
   "outputs": [
    {
     "name": "stderr",
     "output_type": "stream",
     "text": [
      "100%|██████████| 10/10 [00:16<00:00,  1.60s/it]"
     ]
    },
    {
     "name": "stdout",
     "output_type": "stream",
     "text": [
      "{'Gare de Paris-St-Lazare': {}, 'Gare de Rouen-Rive-Droite': {}, 'Gare de Montville': {}, 'Gare de Clères': {}, 'Gare de Auffay': {}, 'Gare de Dieppe': {}, 'Gare de Vernon-Giverny': {}, 'Gare de Gaillon-Aubevoye': {}, 'Gare de Val-de-Reuil': {}, 'Gare de Oissel': {}}\n"
     ]
    },
    {
     "name": "stderr",
     "output_type": "stream",
     "text": [
      "\n"
     ]
    }
   ],
   "source": [
    "graph = {}\n",
    "# allGare = allGare[['departure_time', 'arrival_time']].apply(str_to_time)\n",
    "# for i in tqdm(range(len(allGare))):\n",
    "for i in tqdm(range(10)):\n",
    "    # for i in tqdm(range(10)):\n",
    "    graph[allGare[i]] = getVoisins(allGare[i])\n",
    "print(graph)\n",
    "# print(getVoisins('Gare de Novillars'))"
   ]
  },
  {
   "cell_type": "code",
   "execution_count": 54,
   "metadata": {},
   "outputs": [
    {
     "name": "stdout",
     "output_type": "stream",
     "text": [
      "{'Gare de Paris-St-Lazare': {}, 'Gare de Rouen-Rive-Droite': {}, 'Gare de Montville': {}, 'Gare de Clères': {}, 'Gare de Auffay': {}, 'Gare de Dieppe': {}, 'Gare de Vernon-Giverny': {}, 'Gare de Gaillon-Aubevoye': {}, 'Gare de Val-de-Reuil': {}, 'Gare de Oissel': {}}\n"
     ]
    }
   ],
   "source": [
    "print(graph)\n",
    "# load json module\n",
    "import json\n",
    "#\n",
    "# # create json object from dictionary\n",
    "json_data = json.dumps(graph)\n",
    "#\n",
    "\n",
    "import datetime as date_time_lib\n",
    "# # Create a file name with the current date and time\n",
    "# date_string = now.strftime(\"%Y-%m-%d_%H-%M-%S\")\n",
    "# file_name = \"data_\" + date_string + \".json\"\n",
    "#\n",
    "# # # open file for writing, \"w\"\n",
    "# f = open(file_name, \"w\")\n",
    "# #\n",
    "# # # write json object to file\n",
    "# f.write(json_values)\n",
    "# #\n",
    "# # # close file\n",
    "# f.close()\n",
    "# # open file for writing, \"w\"\n",
    "now = date_time_lib.datetime.now()\n",
    "\n",
    "# Create a file name with the current date and time\n",
    "date_string = now.strftime(\"%Y-%m-%d_%H-%M-%S\")\n",
    "file_name = \"data_\" + date_string + \".json\"\n",
    "\n",
    "# # open file for writing, \"w\"\n",
    "f = open(file_name, \"w\")\n",
    "#\n",
    "# # write json object to file\n",
    "f.write(json_data)\n",
    "#\n",
    "# # close file\n",
    "f.close()"
   ]
  },
  {
   "cell_type": "code",
   "execution_count": 54,
   "outputs": [],
   "source": [],
   "metadata": {
    "collapsed": false,
    "pycharm": {
     "name": "#%%\n"
    }
   }
  }
 ],
 "metadata": {
  "kernelspec": {
   "display_name": "Python 3.10.5 64-bit",
   "language": "python",
   "name": "python3"
  },
  "language_info": {
   "codemirror_mode": {
    "name": "ipython",
    "version": 3
   },
   "file_extension": ".py",
   "mimetype": "text/x-python",
   "name": "python",
   "nbconvert_exporter": "python",
   "pygments_lexer": "ipython3",
   "version": "3.10.5"
  },
  "orig_nbformat": 4,
  "vscode": {
   "interpreter": {
    "hash": "eae5f59d8fba25bcfef2dd471563a815bcd0a3a96804762ddf906651e24b5951"
   }
  }
 },
 "nbformat": 4,
 "nbformat_minor": 2
}
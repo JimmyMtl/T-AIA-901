{
 "cells": [
  {
   "cell_type": "code",
   "execution_count": 8,
   "metadata": {},
   "outputs": [],
   "source": [
    "import math\n",
    "import time\n",
    "import json\n",
    "\n",
    "def dijkstra(graph, source, destination):\n",
    "    unvisited = graph\n",
    "    shortest_distances = {}\n",
    "    route = []\n",
    "    path_nodes = {}\n",
    "\n",
    "    for nodes in unvisited:\n",
    "        shortest_distances[nodes] = math.inf\n",
    "    shortest_distances[source] = 0\n",
    "\n",
    "    while unvisited:\n",
    "        min_node = None\n",
    "        for current_node in unvisited:\n",
    "            if min_node is None:\n",
    "                min_node = current_node\n",
    "            elif shortest_distances[min_node] \\\n",
    "                    > shortest_distances[current_node]:\n",
    "                min_node = current_node\n",
    "        for (node, value) in unvisited[min_node].items():\n",
    "            if value + shortest_distances[min_node] \\\n",
    "                    < shortest_distances[node]:\n",
    "                shortest_distances[node] = value \\\n",
    "                    + shortest_distances[min_node]\n",
    "                path_nodes[node] = min_node\n",
    "        unvisited.pop(min_node)\n",
    "    node = destination\n",
    "\n",
    "    while node != source:\n",
    "        try:\n",
    "            route.insert(0, node)\n",
    "            node = path_nodes[node]\n",
    "        except Exception:\n",
    "            print('Path not reachable')\n",
    "            break\n",
    "    route.insert(0, source)\n",
    "\n",
    "    if shortest_distances[destination] != math.inf:\n",
    "        print('Le trajet va durer ' +  time.strftime('%H:%M:%S', time.gmtime(shortest_distances[destination])))\n",
    "        print('et vous allez parcourir les gares de ' + str(route))"
   ]
  },
  {
   "cell_type": "code",
   "execution_count": 9,
   "metadata": {},
   "outputs": [
    {
     "name": "stdout",
     "output_type": "stream",
     "text": [
      "<class 'str'>\n",
      "<class 'dict'>\n",
      "Le trajet va durer 09:20:00\n",
      "et vous allez parcourir les gares de ['Gare de Neufchâteau', 'Gare de Toul', 'Gare de Nancy-Ville', 'Gare de Blainville-Damelevières', 'Gare de Bayon', 'Gare de Charmes (Vosges)', 'Gare de Châtel-Nomexy', 'Gare de Thaon', 'Gare de Epinal', 'Gare de Xertigny', 'Gare de Bains-les-Bains', 'Gare de Aillevillers', 'Gare de Luxeuil-les-Bains', 'Gare de Lure', 'Gare de Belfort-Ville', 'Gare de Héricourt', 'Gare de Montbéliard-Ville', \"Gare de L'Isle-sur-le-Doubs\", 'Gare de Clerval', 'Gare de Baume-les-Dames', 'Gare de Besançon-Viotte', 'Gare de Arc-et-Senans', 'Gare de Mouchard', 'Gare de Arbois (Jura)', 'Gare de Poligny', 'Gare de Lons-le-Saunier', 'Gare de Cousance', 'Gare de St-Amour', 'Gare de Bourg-en-Bresse', 'Gare de Lyon-Part-Dieu', 'Gare de Vienne', 'Gare de Le Péage-de-Roussillon', 'Gare de Tain', 'Gare de Valence-Ville', 'Gare de Montélimar', 'Gare de Pierrelatte', 'Gare de Avignon-Centre', 'Gare de Tarascon-sur-Rhône', 'Gare de Nîmes Pont-du-Gard', 'Gare de Nîmes', 'Gare de Lunel', 'Gare de Montpellier-Saint-Roch']\n"
     ]
    }
   ],
   "source": [
    "dijkstra(json.loads(open(\"graph.json\",\"r\").read()), 'Gare de Neufchâteau', 'Gare de Montpellier-Saint-Roch')"
   ]
  },
  {
   "cell_type": "code",
   "execution_count": null,
   "metadata": {},
   "outputs": [],
   "source": []
  }
 ],
 "metadata": {
  "kernelspec": {
   "display_name": "Python 3.10.5 64-bit",
   "language": "python",
   "name": "python3"
  },
  "language_info": {
   "name": "python",
   "version": "3.10.5"
  },
  "orig_nbformat": 4,
  "vscode": {
   "interpreter": {
    "hash": "eae5f59d8fba25bcfef2dd471563a815bcd0a3a96804762ddf906651e24b5951"
   }
  }
 },
 "nbformat": 4,
 "nbformat_minor": 2
}

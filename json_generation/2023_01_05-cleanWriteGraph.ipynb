{
 "cells": [
  {
   "cell_type": "code",
   "execution_count": 166,
   "metadata": {
    "collapsed": true
   },
   "outputs": [],
   "source": [
    "import pandas as pd\n",
    "from tqdm import tqdm\n",
    "from datetime import datetime\n",
    "import json"
   ]
  },
  {
   "cell_type": "markdown",
   "source": [
    "# Récupérer toutes les gares de France"
   ],
   "metadata": {
    "collapsed": false
   }
  },
  {
   "cell_type": "code",
   "execution_count": 167,
   "outputs": [
    {
     "data": {
      "text/plain": "(9176, 9)"
     },
     "execution_count": 167,
     "metadata": {},
     "output_type": "execute_result"
    }
   ],
   "source": [
    "dfStop = pd.read_csv('../data_sncf/stops.txt')\n",
    "dfStop.shape"
   ],
   "metadata": {
    "collapsed": false,
    "pycharm": {
     "name": "#%%\n"
    }
   }
  },
  {
   "cell_type": "code",
   "execution_count": 168,
   "outputs": [
    {
     "data": {
      "text/plain": "(2447, 9)"
     },
     "execution_count": 168,
     "metadata": {},
     "output_type": "execute_result"
    }
   ],
   "source": [
    "dfStop = dfStop[dfStop['stop_id'].str.contains('StopPoint:OCETrain')]\n",
    "dfStop.shape"
   ],
   "metadata": {
    "collapsed": false,
    "pycharm": {
     "name": "#%%\n"
    }
   }
  },
  {
   "cell_type": "code",
   "execution_count": 169,
   "outputs": [
    {
     "name": "stdout",
     "output_type": "stream",
     "text": [
      "['Gare de Paris-St-Lazare' 'Gare de Rouen-Rive-Droite' 'Gare de Montville'\n",
      " ... 'Gare de Novillars' 'Gare de Deluz' 'Gare de Laissey']\n"
     ]
    }
   ],
   "source": [
    "allGare = dfStop['stop_name'].unique()\n",
    "allGare.shape\n",
    "print(allGare)"
   ],
   "metadata": {
    "collapsed": false,
    "pycharm": {
     "name": "#%%\n"
    }
   }
  },
  {
   "cell_type": "markdown",
   "source": [
    "# Extractions des voisins"
   ],
   "metadata": {
    "collapsed": false
   }
  },
  {
   "cell_type": "code",
   "execution_count": 170,
   "outputs": [
    {
     "name": "stderr",
     "output_type": "stream",
     "text": [
      "/var/folders/0l/4rhc85qd4kl41w3sd26dml3h0000gn/T/ipykernel_50898/2347447891.py:1: DtypeWarning: Columns (8) have mixed types. Specify dtype option on import or set low_memory=False.\n",
      "  dfStopTimes = pd.read_csv('../data_sncf/stop_times.txt', sep=\",\")\n"
     ]
    },
    {
     "data": {
      "text/plain": "(209129, 9)"
     },
     "execution_count": 170,
     "metadata": {},
     "output_type": "execute_result"
    }
   ],
   "source": [
    "dfStopTimes = pd.read_csv('../data_sncf/stop_times.txt', sep=\",\")\n",
    "dfStopTimes.shape"
   ],
   "metadata": {
    "collapsed": false,
    "pycharm": {
     "name": "#%%\n"
    }
   }
  },
  {
   "cell_type": "code",
   "execution_count": 171,
   "outputs": [],
   "source": [
    "def str_to_time(time: str):\n",
    "    time_split = time.split(':')\n",
    "    if time_split[0] > '23':\n",
    "        time_split[0] = str(int(time_split[0]) - 24)\n",
    "    time = f'{time_split[0]}:{time_split[1]}:{time_split[2]}'\n",
    "    time_object = datetime.strptime(time, '%H:%M:%S')\n",
    "    return time_object"
   ],
   "metadata": {
    "collapsed": false,
    "pycharm": {
     "name": "#%%\n"
    }
   }
  },
  {
   "cell_type": "markdown",
   "source": [
    "# Clean dataframe before calculating"
   ],
   "metadata": {
    "collapsed": false
   }
  },
  {
   "cell_type": "code",
   "execution_count": 172,
   "outputs": [],
   "source": [
    "# dfStopTimes['departure_time'] = dfStopTimes['departure_time'].apply(str_to_time)\n",
    "# dfStopTimes.head()"
   ],
   "metadata": {
    "collapsed": false,
    "pycharm": {
     "name": "#%%\n"
    }
   }
  },
  {
   "cell_type": "code",
   "execution_count": 173,
   "outputs": [],
   "source": [
    "def convert_str_to_time(toConvertTime: str):\n",
    "    time_split = toConvertTime.split(':')\n",
    "    hour = int(time_split[0])\n",
    "    if hour > 23:\n",
    "        hour -= 24\n",
    "    time_object = datetime.strptime(f'{hour}:{time_split[1]}:{time_split[2]}', '%H:%M:%S')\n",
    "    return time_object"
   ],
   "metadata": {
    "collapsed": false,
    "pycharm": {
     "name": "#%%\n"
    }
   }
  },
  {
   "cell_type": "code",
   "execution_count": 174,
   "outputs": [],
   "source": [
    "def getVoisins(gare):\n",
    "    # on recupere le stopID de notre gare\n",
    "    stopID = dfStop[(dfStop.stop_name == gare)].stop_id.values[0]\n",
    "    # on recupere les trajets qui passent par cette gare\n",
    "    trajets = dfStopTimes[dfStopTimes['stop_id'] == stopID]\n",
    "    listeVoisinsGare = {}\n",
    "\n",
    "    for j in range(len(trajets)):\n",
    "        # on recupere la position de la gare dans le trajet\n",
    "        stopSequence = trajets['stop_sequence'].values[j]\n",
    "        # on recupere le tripID du trajet\n",
    "        tripId = trajets['trip_id'].values[j]\n",
    "        # on recupere les times de notre gare\n",
    "        departureTimeGare = convert_str_to_time(trajets['departure_time'].values[j])\n",
    "        arivalTimeGare = convert_str_to_time(trajets['arrival_time'].values[j])\n",
    "        try:\n",
    "            # on recupere la gare précédente\n",
    "            voisin1 = dfStopTimes[(dfStopTimes['trip_id'] == tripId) & (\n",
    "                    dfStopTimes['stop_sequence'] == stopSequence - 1)]\n",
    "            # on recupere le departure time de la gare précédente\n",
    "            departureTimeVoisin1 = convert_str_to_time(voisin1.departure_time.values[0])\n",
    "            # on recupere le nom de la gare\n",
    "            voisin1 = dfStop[dfStop['stop_id'] ==\n",
    "                             voisin1.stop_id.values[0]].stop_name.values[0]\n",
    "            # on calcule le temps de trajet\n",
    "            tempsTrajetvoisin1 = arivalTimeGare - departureTimeVoisin1\n",
    "            # on ajoute le voisin et le temps de trajet dans le dictionnaire\n",
    "            listeVoisinsGare[voisin1] = tempsTrajetvoisin1.seconds\n",
    "        except:\n",
    "            continue\n",
    "\n",
    "        try:\n",
    "            # on recupere la gare suivante\n",
    "            voisin2 = dfStopTimes[(dfStopTimes['trip_id'] == tripId) & (\n",
    "                    dfStopTimes['stop_sequence'] == stopSequence + 1)]\n",
    "            # on recupere le departure time de la gare suivante\n",
    "            arrivalTimeVoisin2 = convert_str_to_time(voisin2.departure_time.values[0])\n",
    "            # on recupere le nom de la gare\n",
    "            voisin2 = dfStop[dfStop['stop_id'] ==\n",
    "                             voisin2.stop_id.values[0]].stop_name.values[0]\n",
    "            # on calcule le temps de trajet\n",
    "            tempsTrajetvoisin2 = arrivalTimeVoisin2 - departureTimeGare\n",
    "            # on ajoute le voisin et le temps de trajet dans le dictionnaire\n",
    "            listeVoisinsGare[voisin2] = tempsTrajetvoisin2.seconds\n",
    "        except:\n",
    "            continue\n",
    "\n",
    "    # on retourne notre liste dans un set pour supprimer les doublons\n",
    "    return listeVoisinsGare"
   ],
   "metadata": {
    "collapsed": false,
    "pycharm": {
     "name": "#%%\n"
    }
   }
  },
  {
   "cell_type": "code",
   "execution_count": 175,
   "outputs": [
    {
     "name": "stderr",
     "output_type": "stream",
     "text": [
      "100%|██████████| 2/2 [00:16<00:00,  8.15s/it]\n"
     ]
    }
   ],
   "source": [
    "graph = {}\n",
    "\n",
    "for i in tqdm(range(2)):\n",
    "    graph[allGare[i]] = getVoisins(allGare[i])\n"
   ],
   "metadata": {
    "collapsed": false,
    "pycharm": {
     "name": "#%%\n"
    }
   }
  },
  {
   "cell_type": "code",
   "execution_count": 176,
   "outputs": [
    {
     "name": "stdout",
     "output_type": "stream",
     "text": [
      "{'Gare de Paris-St-Lazare': {'Gare de Rouen-Rive-Droite': 5220, 'Gare de Vernon-Giverny': 3240, 'Gare de Mantes-la-Jolie': 2340, 'Gare de Caen': 7320, 'Gare de Evreux - Normandie': 5280, 'Gare de Lisieux': 6000}, 'Gare de Rouen-Rive-Droite': {'Gare de Paris-St-Lazare': 5220, 'Gare de Montville': 720, 'Gare de Yvetot': 1260, 'Gare de Oissel': 600, 'Gare de Le Havre': 2760, 'Gare de Elbeuf-St-Aubin': 960, 'Gare de Morgny': 900, 'Gare de Longuerue-Vieux-Manoir': 1080, 'Gare de Montérolier-Buchy': 1440, 'Gare de Barentin': 780, 'Gare de Sotteville': 360, 'Gare de Maromme': 420}}\n"
     ]
    }
   ],
   "source": [
    "print(graph)"
   ],
   "metadata": {
    "collapsed": false,
    "pycharm": {
     "name": "#%%\n"
    }
   }
  },
  {
   "cell_type": "code",
   "execution_count": 176,
   "outputs": [],
   "source": [],
   "metadata": {
    "collapsed": false,
    "pycharm": {
     "name": "#%%\n"
    }
   }
  }
 ],
 "metadata": {
  "kernelspec": {
   "display_name": "Python 3",
   "language": "python",
   "name": "python3"
  },
  "language_info": {
   "codemirror_mode": {
    "name": "ipython",
    "version": 2
   },
   "file_extension": ".py",
   "mimetype": "text/x-python",
   "name": "python",
   "nbconvert_exporter": "python",
   "pygments_lexer": "ipython2",
   "version": "2.7.6"
  }
 },
 "nbformat": 4,
 "nbformat_minor": 0
}